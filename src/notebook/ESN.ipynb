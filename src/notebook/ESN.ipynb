{
 "cells": [
  {
   "cell_type": "code",
   "execution_count": 1,
   "metadata": {},
   "outputs": [],
   "source": [
    "import numpy as np\n",
    "import matplotlib.pyplot as plt\n",
    "\n",
    "import pandas as pd\n",
    "import pickle\n",
    "root = '../dataset/hi'\n",
    "root_soh = '../dataset/soh_charge'\n",
    "root_model = '../model'\n"
   ]
  },
  {
   "cell_type": "code",
   "execution_count": 2,
   "metadata": {},
   "outputs": [],
   "source": [
    "\n",
    "def load_and_process(root, root_soh, dataset):\n",
    "    hiv = pd.read_csv(f'{root}/hiv-charge-CS2_{dataset}.csv')\n",
    "    soh = pd.read_csv(f'{root_soh}/Csoh-CS2_{dataset}.csv')\n",
    "\n",
    "    # Mantieni solo le colonne da hiv e soh\n",
    "    df = pd.merge(hiv, soh, how=\"right\", on=\"cycle\")[[\"cycle\", \"hi_v\", \"SOH\"]]\n",
    "    df = df.drop(columns=[\"cycle\"])\n",
    "    df_hiv = df[[\"hi_v\"]]\n",
    "    df_soh = df[[\"SOH\"]]\n",
    "    return df_hiv.values, df_soh.values\n",
    "\n",
    "# Carica e processa i dataset\n",
    "df_33_hiv, df_33_soh = load_and_process(root, root_soh, 33)\n",
    "df_35_hiv, df_35_soh = load_and_process(root, root_soh, 35)\n",
    "df_37_hiv, df_37_soh = load_and_process(root, root_soh, 37)\n",
    "df_36_hiv, df_36_soh = load_and_process(root, root_soh, 36)\n",
    "df_38_hiv, df_38_soh = load_and_process(root, root_soh, 38)\n"
   ]
  },
  {
   "cell_type": "code",
   "execution_count": 3,
   "metadata": {},
   "outputs": [],
   "source": [
    "seq_length = 10\n",
    "\n",
    "def split_sequence(data, seq_length, train=False):\n",
    "    seq = []   \n",
    "    for j in data:\n",
    "        for i in range(len(j) - seq_length):\n",
    "            if train is True:\n",
    "                seq.append(j[i:i+seq_length])\n",
    "            else:\n",
    "                seq.append(j[i+seq_length-1])\n",
    "    if train:\n",
    "        return np.array(seq)\n",
    "    else:\n",
    "        return np.array(seq)"
   ]
  },
  {
   "cell_type": "code",
   "execution_count": 4,
   "metadata": {},
   "outputs": [
    {
     "name": "stdout",
     "output_type": "stream",
     "text": [
      "(827, 1) (904, 1)\n"
     ]
    }
   ],
   "source": [
    "print(df_36_soh.shape, df_38_soh.shape)"
   ]
  },
  {
   "cell_type": "code",
   "execution_count": 5,
   "metadata": {},
   "outputs": [
    {
     "name": "stdout",
     "output_type": "stream",
     "text": [
      "(1711, 10, 1) (1711, 1)\n"
     ]
    }
   ],
   "source": [
    "# Create sequences for training set\n",
    "\n",
    "X_train = split_sequence([df_36_hiv, df_38_hiv], seq_length, train=True)\n",
    "y_train = split_sequence([df_36_soh, df_38_soh], seq_length)\n",
    "\n",
    "# Calculate mean and std for normalization\n",
    "mean = X_train.mean()\n",
    "std = X_train.std()\n",
    "\n",
    "# Standardize train data\n",
    "X_train = (X_train - mean) / std\n",
    "\n",
    "# Shuffle the sequences\n",
    "perms = np.random.permutation(len(X_train))\n",
    "X_train = X_train[perms]\n",
    "y_train = y_train[perms]\n",
    "\n",
    "\n",
    "print(X_train.shape, y_train.shape)"
   ]
  },
  {
   "cell_type": "code",
   "execution_count": 6,
   "metadata": {},
   "outputs": [
    {
     "data": {
      "text/plain": [
       "(1711, 10, 1)"
      ]
     },
     "execution_count": 6,
     "metadata": {},
     "output_type": "execute_result"
    }
   ],
   "source": [
    "X_train.shape"
   ]
  },
  {
   "cell_type": "code",
   "execution_count": 7,
   "metadata": {},
   "outputs": [
    {
     "name": "stdout",
     "output_type": "stream",
     "text": [
      "1711 100\n"
     ]
    }
   ],
   "source": [
    "# load the data\n",
    "trainLen = len(X_train)\n",
    "# testLen = len(X_test)\n",
    "initLen = 100\n",
    "print(trainLen, initLen)"
   ]
  },
  {
   "cell_type": "code",
   "execution_count": 8,
   "metadata": {},
   "outputs": [],
   "source": [
    "class ESN:\n",
    "    def __init__(\n",
    "            self,\n",
    "            inSize= 1,\n",
    "            outSize = 1,\n",
    "            resSize = 100,\n",
    "            a = 1,\n",
    "            seed = 42,\n",
    "            spectral_radius = .9,\n",
    "            reg = 1e-4\n",
    "            ):\n",
    "        self.inSize = inSize\n",
    "        self.outSize = outSize\n",
    "        self.resSize = resSize\n",
    "        self.a = a\n",
    "        self.reg = reg\n",
    "        np.random.seed(seed)\n",
    "        self.Win = (np.random.rand(self.resSize,inSize) - 0.5) * 2\n",
    "        self.res_bias = (np.random.rand(self.resSize,1) - 0.5) * 2\n",
    "        self.W = (np.random.rand(resSize,resSize) - 0.5) * 2\n",
    "        rhoW = np.max(np.abs(np.linalg.eigvals(self.W)))\n",
    "        self.W *= spectral_radius / rhoW\n",
    "        \n",
    "\n",
    "    def res_forward(self, X_train):\n",
    "        # H = []\n",
    "        n_example = X_train.shape[0]\n",
    "        # for j in range(n_example):\n",
    "        h = np.zeros((self.resSize, n_example))\n",
    "        res_bias = np.repeat(self.res_bias, n_example, axis=1)\n",
    "        for t in range(X_train.shape[1]):\n",
    "            # (n_example, inSize)\n",
    "            x = X_train[:,t]\n",
    "            # (resSize, n_example) = (resSize, inSize) * (inSize, n_example) + (resSize, resSize) * (resSize, n_example) + (resSize, n_example) \n",
    "            h_temp =  np.tanh(self.Win @ x.T + self.W @ h + res_bias)\n",
    "            #(resSize, n_example) = (resSize, n_example) + (resSize, n_example) \n",
    "            h = (1-self.a)*h + self.a*h_temp\n",
    "        # H.append(h.T)\n",
    "        # (n_example, resSize)\n",
    "        return h.T\n",
    "    \n",
    "    def fit(self, X_train, y_train):\n",
    "        H = self.res_forward(X_train)\n",
    "        Y = y_train\n",
    "        I = np.eye(self.resSize)\n",
    "        # (resSize, outSize) = ((resSize, n_example) * (n_example, resSize) + (resSize, resSize)) * (resSize, n_example) * (n_example, outSize)\n",
    "        self.Wout = np.linalg.inv( H.T @ H + self.reg*I) @ H.T @ Y \n",
    "        \n",
    "    def predict(self, X_test):\n",
    "        H = self.res_forward(X_test)\n",
    "        #(n_examples, outSize) = (n_example, resSize) *  (resSize, outSize)\n",
    "        o = H @ self.Wout\n",
    "        return o\n",
    "    \n"
   ]
  },
  {
   "cell_type": "code",
   "execution_count": 9,
   "metadata": {},
   "outputs": [
    {
     "name": "stdout",
     "output_type": "stream",
     "text": [
      "Best MAE on validation set: 0.5941922149968911 %\n",
      "Best parameters: {'a': 0.5, 'reg': 1e-05, 'resSize': 200, 'spectral_radius': 0.9}\n"
     ]
    }
   ],
   "source": [
    "from sklearn.model_selection import ParameterGrid, GridSearchCV\n",
    "from sklearn.model_selection import train_test_split\n",
    "\n",
    "# Define hyperparams for grid search\n",
    "param_grid = {\n",
    "    'resSize': [50, 100, 200],\n",
    "    'spectral_radius': [0.8, 0.9, 1.0],\n",
    "    'reg': [1e-4, 1e-5, 1e-6],\n",
    "    'a': [0.1, 0.3, 0.5]\n",
    "}\n",
    "\n",
    "# Create GridSearch\n",
    "grid = ParameterGrid(param_grid)\n",
    "\n",
    "# Initialize best params\n",
    "best_mae = float('inf')\n",
    "best_params = None\n",
    "\n",
    "# Divide datas into train and validation sets\n",
    "X_train, X_val, y_train, y_val = train_test_split(X_train, y_train, test_size=0.2, random_state=42)\n",
    "\n",
    "\n",
    "# grid = GridSearchCV(estimator=keras_model, param_grid=param_grid, scoring='neg_mean_squared_error', cv=3)\n",
    "# grid_result = grid.fit(X_train, y_train)\n",
    "# print(\"Best: %f using %s\" % (grid_result.best_score_, grid_result.best_params_))\n",
    "\n",
    "# Execute GridSearch\n",
    "for params in grid:\n",
    "    model = ESN(**params)\n",
    "    model.fit(X_train, y_train)\n",
    "    y_pred_val = model.predict(X_val)\n",
    "    mae_val = np.abs(y_pred_val - y_val).mean()\n",
    "    if mae_val < best_mae:\n",
    "        best_mae = mae_val\n",
    "        best_params = params\n",
    "\n",
    "print(\"Best MAE on validation set:\", best_mae * 100, '%')\n",
    "print(\"Best parameters:\", best_params)"
   ]
  },
  {
   "cell_type": "code",
   "execution_count": 10,
   "metadata": {},
   "outputs": [],
   "source": [
    "model = ESN(**best_params)\n",
    "model.fit(X_train, y_train)"
   ]
  },
  {
   "cell_type": "code",
   "execution_count": 11,
   "metadata": {},
   "outputs": [],
   "source": [
    "# save the model\n",
    "with open(f'{root_model}/ESN.pkl', 'wb') as f:\n",
    "    pickle.dump(model, f)"
   ]
  },
  {
   "cell_type": "code",
   "execution_count": 23,
   "metadata": {},
   "outputs": [],
   "source": [
    "# Change test df to plot different samples\n",
    "file_number = 37\n",
    "file_hiv = globals()[f'df_{file_number}_hiv']\n",
    "file_soh = globals()[f'df_{file_number}_soh']\n",
    "\n",
    "# Create sequences for testing set\n",
    "X_test = split_sequence([file_hiv], seq_length, train = True)\n",
    "y_test = split_sequence([file_soh], seq_length)\n",
    "\n",
    "# Normalize the test data using the mean and std from training data\n",
    "X_test = (X_test - mean) / std"
   ]
  },
  {
   "cell_type": "code",
   "execution_count": 24,
   "metadata": {},
   "outputs": [
    {
     "name": "stdout",
     "output_type": "stream",
     "text": [
      "(881, 1) 0.5172116283992869 0.6387074236676958\n"
     ]
    },
    {
     "data": {
      "image/png": "[encoded data removed]",
      "text/plain": [
       "<Figure size 640x480 with 1 Axes>"
      ]
     },
     "metadata": {},
     "output_type": "display_data"
    }
   ],
   "source": [
    "# Predici i valori sul dataset di test\n",
    "y_pred = model.predict(X_test=X_test)\n",
    "mae = np.abs(y_pred - y_test).mean()\n",
    "rmse = np.sqrt(np.power((y_pred - y_test),2).mean())\n",
    "print(y_pred.shape, mae*100, rmse*100)\n",
    "plt.plot((y_test/1.1)*100, label='Real', color='blue')\n",
    "plt.plot((y_pred/1.1)*100, label='Predicted', color='red')\n",
    "plt.title(f'Real vs Predicted, File:{file_number}')\n",
    "plt.xlabel('Cycle')\n",
    "plt.ylabel('Value')\n",
    "plt.legend()\n",
    "plt.show()"
   ]
  }
 ],
 "metadata": {
  "kernelspec": {
   "display_name": "Python 3",
   "language": "python",
   "name": "python3"
  },
  "language_info": {
   "codemirror_mode": {
    "name": "ipython",
    "version": 3
   },
   "file_extension": ".py",
   "mimetype": "text/x-python",
   "name": "python",
   "nbconvert_exporter": "python",
   "pygments_lexer": "ipython3",
   "version": "3.9.12"
  }
 },
 "nbformat": 4,
 "nbformat_minor": 2
}

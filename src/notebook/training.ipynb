{
 "cells": [
  {
   "cell_type": "code",
   "execution_count": 10,
   "metadata": {},
   "outputs": [],
   "source": [
    "import pandas as pd\n",
    "import numpy as np\n",
    "root = '../dataset/hi'\n",
    "\n",
    "# Load dataset\n",
    "hiv = pd.read_csv(f'{root}/hiv-charge-CS2_36.csv')\n",
    "hii = pd.read_csv(f'{root}/hii-charge-CS2_36.csv')"
   ]
  },
  {
   "cell_type": "code",
   "execution_count": 2,
   "metadata": {},
   "outputs": [
    {
     "name": "stdout",
     "output_type": "stream",
     "text": [
      "         hi_v      hi_i\n",
      "0    0.139086  0.082556\n",
      "1    6.067685  0.105748\n",
      "2    6.071450  0.104493\n",
      "3    6.094198  0.101743\n",
      "4    6.041353  0.098991\n",
      "..        ...       ...\n",
      "955  5.715144  0.122793\n",
      "956  5.710389  0.122829\n",
      "957  5.732181  0.114557\n",
      "958  5.709578  0.112152\n",
      "959  5.662337  0.117791\n",
      "\n",
      "[960 rows x 2 columns]\n"
     ]
    }
   ],
   "source": [
    "# Unisci i due dataset utilizzando la colonna \"cycle\"\n",
    "df = pd.merge(hiv, hii, on=\"cycle\")\n",
    "\n",
    "# Rimuovi la colonna \"cycle\" dal DataFrame risultante\n",
    "df = df.drop(columns=[\"cycle\"], inplace=False)\n",
    "\n",
    "# Visualizza il DataFrame risultante\n",
    "print(df)"
   ]
  },
  {
   "cell_type": "code",
   "execution_count": 3,
   "metadata": {},
   "outputs": [],
   "source": [
    "# Split into train and test sets\n",
    "train_size = int(len(df) * 0.8)\n",
    "train_data, test_data = df[:train_size], df[train_size:]"
   ]
  },
  {
   "cell_type": "code",
   "execution_count": 5,
   "metadata": {},
   "outputs": [],
   "source": [
    "from sklearn.preprocessing import StandardScaler\n",
    "\n",
    "# Istanzia lo StandardScaler\n",
    "scaler = StandardScaler()\n",
    "\n",
    "# Standardizza i dati\n",
    "scaled_data = scaler.fit_transform(df)\n",
    "\n",
    "# Crea un nuovo DataFrame con i dati standardizzati\n",
    "df_standardized = pd.DataFrame(scaled_data, columns=df.columns)\n"
   ]
  },
  {
   "cell_type": "code",
   "execution_count": 6,
   "metadata": {},
   "outputs": [
    {
     "data": {
      "text/html": [
       "<div>\n",
       "<style scoped>\n",
       "    .dataframe tbody tr th:only-of-type {\n",
       "        vertical-align: middle;\n",
       "    }\n",
       "\n",
       "    .dataframe tbody tr th {\n",
       "        vertical-align: top;\n",
       "    }\n",
       "\n",
       "    .dataframe thead th {\n",
       "        text-align: right;\n",
       "    }\n",
       "</style>\n",
       "<table border=\"1\" class=\"dataframe\">\n",
       "  <thead>\n",
       "    <tr style=\"text-align: right;\">\n",
       "      <th></th>\n",
       "      <th>hi_v</th>\n",
       "      <th>hi_i</th>\n",
       "    </tr>\n",
       "  </thead>\n",
       "  <tbody>\n",
       "    <tr>\n",
       "      <th>0</th>\n",
       "      <td>0.139086</td>\n",
       "      <td>0.082556</td>\n",
       "    </tr>\n",
       "    <tr>\n",
       "      <th>1</th>\n",
       "      <td>6.067685</td>\n",
       "      <td>0.105748</td>\n",
       "    </tr>\n",
       "    <tr>\n",
       "      <th>2</th>\n",
       "      <td>6.071450</td>\n",
       "      <td>0.104493</td>\n",
       "    </tr>\n",
       "    <tr>\n",
       "      <th>3</th>\n",
       "      <td>6.094198</td>\n",
       "      <td>0.101743</td>\n",
       "    </tr>\n",
       "    <tr>\n",
       "      <th>4</th>\n",
       "      <td>6.041353</td>\n",
       "      <td>0.098991</td>\n",
       "    </tr>\n",
       "    <tr>\n",
       "      <th>...</th>\n",
       "      <td>...</td>\n",
       "      <td>...</td>\n",
       "    </tr>\n",
       "    <tr>\n",
       "      <th>955</th>\n",
       "      <td>5.715144</td>\n",
       "      <td>0.122793</td>\n",
       "    </tr>\n",
       "    <tr>\n",
       "      <th>956</th>\n",
       "      <td>5.710389</td>\n",
       "      <td>0.122829</td>\n",
       "    </tr>\n",
       "    <tr>\n",
       "      <th>957</th>\n",
       "      <td>5.732181</td>\n",
       "      <td>0.114557</td>\n",
       "    </tr>\n",
       "    <tr>\n",
       "      <th>958</th>\n",
       "      <td>5.709578</td>\n",
       "      <td>0.112152</td>\n",
       "    </tr>\n",
       "    <tr>\n",
       "      <th>959</th>\n",
       "      <td>5.662337</td>\n",
       "      <td>0.117791</td>\n",
       "    </tr>\n",
       "  </tbody>\n",
       "</table>\n",
       "<p>960 rows × 2 columns</p>\n",
       "</div>"
      ],
      "text/plain": [
       "         hi_v      hi_i\n",
       "0    0.139086  0.082556\n",
       "1    6.067685  0.105748\n",
       "2    6.071450  0.104493\n",
       "3    6.094198  0.101743\n",
       "4    6.041353  0.098991\n",
       "..        ...       ...\n",
       "955  5.715144  0.122793\n",
       "956  5.710389  0.122829\n",
       "957  5.732181  0.114557\n",
       "958  5.709578  0.112152\n",
       "959  5.662337  0.117791\n",
       "\n",
       "[960 rows x 2 columns]"
      ]
     },
     "execution_count": 6,
     "metadata": {},
     "output_type": "execute_result"
    }
   ],
   "source": [
    "df"
   ]
  },
  {
   "cell_type": "code",
   "execution_count": 22,
   "metadata": {},
   "outputs": [],
   "source": [
    "def create_sequences(data, seq_length):\n",
    "    X = []\n",
    "    y = []\n",
    "    for i in range(len(data) - seq_length):\n",
    "        seq = data[['hi_v', 'hi_i']].iloc[i:i+seq_length].values\n",
    "        target = data['hi_i'].iloc[i+seq_length]\n",
    "        X.append(seq)\n",
    "        y.append(target)\n",
    "    return np.array(X), np.array(y)\n"
   ]
  },
  {
   "cell_type": "code",
   "execution_count": 24,
   "metadata": {},
   "outputs": [
    {
     "name": "stdout",
     "output_type": "stream",
     "text": [
      "Shape of X_train before reshaping: (758, 10, 2)\n",
      "Shape of X_train after reshaping: (758, 10, 2)\n",
      "Shape of X_test before reshaping: (182, 10, 2)\n",
      "Shape of X_test after reshaping: (182, 10, 2)\n"
     ]
    }
   ],
   "source": [
    "# Define the sequence length\n",
    "seq_length = 10\n",
    "\n",
    "# Create sequences for training set\n",
    "X_train, y_train = create_sequences(train_data, seq_length)\n",
    "\n",
    "# Print the shape of X_train before reshaping\n",
    "print(\"Shape of X_train before reshaping:\", X_train.shape)\n",
    "\n",
    "# Reshape input data for training set\n",
    "X_train = X_train.reshape((X_train.shape[0], X_train.shape[1], 2))\n",
    "\n",
    "# Print the shape of X_train after reshaping\n",
    "print(\"Shape of X_train after reshaping:\", X_train.shape)\n",
    "\n",
    "# Create sequences for testing set\n",
    "X_test, y_test = create_sequences(test_data, seq_length)\n",
    "\n",
    "# Print the shape of X_test before reshaping\n",
    "print(\"Shape of X_test before reshaping:\", X_test.shape)\n",
    "\n",
    "# Reshape input data for testing set\n",
    "X_test = X_test.reshape((X_test.shape[0], X_test.shape[1], 2))\n",
    "\n",
    "# Print the shape of X_test after reshaping\n",
    "print(\"Shape of X_test after reshaping:\", X_test.shape)\n"
   ]
  }
 ],
 "metadata": {
  "kernelspec": {
   "display_name": "Python 3",
   "language": "python",
   "name": "python3"
  },
  "language_info": {
   "codemirror_mode": {
    "name": "ipython",
    "version": 3
   },
   "file_extension": ".py",
   "mimetype": "text/x-python",
   "name": "python",
   "nbconvert_exporter": "python",
   "pygments_lexer": "ipython3",
   "version": "3.10.11"
  }
 },
 "nbformat": 4,
 "nbformat_minor": 2
}

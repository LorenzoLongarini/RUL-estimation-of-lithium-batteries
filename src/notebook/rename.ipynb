{
 "cells": [
  {
   "cell_type": "code",
   "execution_count": 38,
   "metadata": {},
   "outputs": [],
   "source": [
    "import os\n",
    "import re\n",
    "from datetime import datetime\n",
    "\n",
    "def rename_and_move_files(directory_path):\n",
    "    # Creare la cartella \"ordered\" se non esiste\n",
    "    ordered_directory = os.path.join(directory_path, 'ordered')\n",
    "    if not os.path.exists(ordered_directory):\n",
    "        os.makedirs(ordered_directory)\n",
    "\n",
    "    # Ottenere la lista dei file nella directory specificata\n",
    "    files = [f for f in os.listdir(directory_path) if os.path.isfile(os.path.join(directory_path, f))]\n",
    "\n",
    "    for filename in files:\n",
    "        # Verificare che il file abbia il formato CS2_xx_mm_dd_yy\n",
    "        match = re.match(r'CS2_(\\d{2})_(\\d{2})_(\\d{2})_(\\d{2})\\.xlsx', filename)\n",
    "        if match:\n",
    "            # Estrarre le parti della data dal nome del file\n",
    "            xx, mm, dd, yy = match.groups()\n",
    "\n",
    "            # Creare la nuova data nel formato CS2_xx_yy_mm_dd\n",
    "            new_filename = f'CS2_{xx}_{yy}_{mm}_{dd}.xlsx'\n",
    "\n",
    "            # Costruire i percorsi completi dei file originali e rinominati\n",
    "            old_filepath = os.path.join(directory_path, filename)\n",
    "            new_filepath = os.path.join(ordered_directory, new_filename)\n",
    "\n",
    "            # Verificare se il file con il nuovo nome esiste già\n",
    "            if not os.path.exists(new_filepath):\n",
    "                # Rinominare il file solo se non esiste già un file con il nuovo nome\n",
    "                os.rename(old_filepath, new_filepath)\n",
    "                print(f'Rinominato e spostato: {filename} -> {new_filepath}')\n",
    "            else:\n",
    "                print(f'Il file con il nuovo nome {new_filename} esiste già in {ordered_directory}.')"
   ]
  },
  {
   "cell_type": "code",
   "execution_count": 46,
   "metadata": {},
   "outputs": [
    {
     "name": "stdout",
     "output_type": "stream",
     "text": [
      "Rinominato e spostato: CS2_36_01_10_11.xlsx -> ../dataset/CS2_36\\ordered\\CS2_36_11_01_10.xlsx\n",
      "Rinominato e spostato: CS2_36_01_18_11.xlsx -> ../dataset/CS2_36\\ordered\\CS2_36_11_01_18.xlsx\n",
      "Rinominato e spostato: CS2_36_01_24_11.xlsx -> ../dataset/CS2_36\\ordered\\CS2_36_11_01_24.xlsx\n",
      "Rinominato e spostato: CS2_36_01_28_11.xlsx -> ../dataset/CS2_36\\ordered\\CS2_36_11_01_28.xlsx\n",
      "Rinominato e spostato: CS2_36_02_03_11.xlsx -> ../dataset/CS2_36\\ordered\\CS2_36_11_02_03.xlsx\n",
      "Rinominato e spostato: CS2_36_08_17_10.xlsx -> ../dataset/CS2_36\\ordered\\CS2_36_10_08_17.xlsx\n",
      "Rinominato e spostato: CS2_36_08_18_10.xlsx -> ../dataset/CS2_36\\ordered\\CS2_36_10_08_18.xlsx\n",
      "Rinominato e spostato: CS2_36_08_19_10.xlsx -> ../dataset/CS2_36\\ordered\\CS2_36_10_08_19.xlsx\n",
      "Rinominato e spostato: CS2_36_08_30_10.xlsx -> ../dataset/CS2_36\\ordered\\CS2_36_10_08_30.xlsx\n",
      "Rinominato e spostato: CS2_36_09_07_10.xlsx -> ../dataset/CS2_36\\ordered\\CS2_36_10_09_07.xlsx\n",
      "Rinominato e spostato: CS2_36_09_14_10.xlsx -> ../dataset/CS2_36\\ordered\\CS2_36_10_09_14.xlsx\n",
      "Rinominato e spostato: CS2_36_09_21_10.xlsx -> ../dataset/CS2_36\\ordered\\CS2_36_10_09_21.xlsx\n",
      "Rinominato e spostato: CS2_36_09_30_10.xlsx -> ../dataset/CS2_36\\ordered\\CS2_36_10_09_30.xlsx\n",
      "Rinominato e spostato: CS2_36_10_04_10.xlsx -> ../dataset/CS2_36\\ordered\\CS2_36_10_10_04.xlsx\n",
      "Rinominato e spostato: CS2_36_10_05_10.xlsx -> ../dataset/CS2_36\\ordered\\CS2_36_10_10_05.xlsx\n",
      "Rinominato e spostato: CS2_36_10_14_10.xlsx -> ../dataset/CS2_36\\ordered\\CS2_36_10_10_14.xlsx\n",
      "Rinominato e spostato: CS2_36_10_21_10.xlsx -> ../dataset/CS2_36\\ordered\\CS2_36_10_10_21.xlsx\n",
      "Rinominato e spostato: CS2_36_10_28_10.xlsx -> ../dataset/CS2_36\\ordered\\CS2_36_10_10_28.xlsx\n",
      "Rinominato e spostato: CS2_36_11_01_10.xlsx -> ../dataset/CS2_36\\ordered\\CS2_36_10_11_01.xlsx\n",
      "Rinominato e spostato: CS2_36_11_15_10.xlsx -> ../dataset/CS2_36\\ordered\\CS2_36_10_11_15.xlsx\n",
      "Rinominato e spostato: CS2_36_11_22_10.xlsx -> ../dataset/CS2_36\\ordered\\CS2_36_10_11_22.xlsx\n",
      "Rinominato e spostato: CS2_36_11_24_10.xlsx -> ../dataset/CS2_36\\ordered\\CS2_36_10_11_24.xlsx\n",
      "Rinominato e spostato: CS2_36_12_06_10.xlsx -> ../dataset/CS2_36\\ordered\\CS2_36_10_12_06.xlsx\n",
      "Rinominato e spostato: CS2_36_12_13_10.xlsx -> ../dataset/CS2_36\\ordered\\CS2_36_10_12_13.xlsx\n",
      "Rinominato e spostato: CS2_36_12_20_10.xlsx -> ../dataset/CS2_36\\ordered\\CS2_36_10_12_20.xlsx\n",
      "Rinominato e spostato: CS2_36_12_23_10.xlsx -> ../dataset/CS2_36\\ordered\\CS2_36_10_12_23.xlsx\n"
     ]
    }
   ],
   "source": [
    "# Specificare il percorso della directory contenente i file Excel\n",
    "directory_path = '../dataset/CS2_36'\n",
    "\n",
    "# Richiamare la funzione per rinominare e eliminare i file\n",
    "rename_and_move_files(directory_path)"
   ]
  }
 ],
 "metadata": {
  "kernelspec": {
   "display_name": "Python 3",
   "language": "python",
   "name": "python3"
  },
  "language_info": {
   "codemirror_mode": {
    "name": "ipython",
    "version": 3
   },
   "file_extension": ".py",
   "mimetype": "text/x-python",
   "name": "python",
   "nbconvert_exporter": "python",
   "pygments_lexer": "ipython3",
   "version": "3.9.12"
  }
 },
 "nbformat": 4,
 "nbformat_minor": 2
}

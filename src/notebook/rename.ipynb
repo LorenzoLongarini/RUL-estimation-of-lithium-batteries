{
 "cells": [
  {
   "cell_type": "code",
   "execution_count": 34,
   "metadata": {},
   "outputs": [
    {
     "name": "stdout",
     "output_type": "stream",
     "text": [
      "Entra?\n"
     ]
    },
    {
     "ename": "FileNotFoundError",
     "evalue": "[WinError 3] Impossibile trovare il percorso specificato: '../dataset/CS2_35\\\\CS2_35_01_10_11.xlsx' -> '../dataset/CS2_35/ordered\\\\CS2_35_11_01_10.xlsx'",
     "output_type": "error",
     "traceback": [
      "\u001b[1;31m---------------------------------------------------------------------------\u001b[0m",
      "\u001b[1;31mFileNotFoundError\u001b[0m                         Traceback (most recent call last)",
      "Cell \u001b[1;32mIn[34], line 26\u001b[0m\n\u001b[0;32m     23\u001b[0m new_filepath \u001b[38;5;241m=\u001b[39m os\u001b[38;5;241m.\u001b[39mpath\u001b[38;5;241m.\u001b[39mjoin(\u001b[38;5;124mf\u001b[39m\u001b[38;5;124m'\u001b[39m\u001b[38;5;132;01m{\u001b[39;00mdirectory_path\u001b[38;5;132;01m}\u001b[39;00m\u001b[38;5;124m/ordered\u001b[39m\u001b[38;5;124m'\u001b[39m, new_filename)\n\u001b[0;32m     25\u001b[0m \u001b[38;5;66;03m# Rinominare il file\u001b[39;00m\n\u001b[1;32m---> 26\u001b[0m \u001b[43mos\u001b[49m\u001b[38;5;241;43m.\u001b[39;49m\u001b[43mrename\u001b[49m\u001b[43m(\u001b[49m\u001b[43mold_filepath\u001b[49m\u001b[43m,\u001b[49m\u001b[43m \u001b[49m\u001b[43mnew_filepath\u001b[49m\u001b[43m)\u001b[49m\n\u001b[0;32m     28\u001b[0m \u001b[38;5;28mprint\u001b[39m(\u001b[38;5;124mf\u001b[39m\u001b[38;5;124m'\u001b[39m\u001b[38;5;124mRinominato: \u001b[39m\u001b[38;5;132;01m{\u001b[39;00mfilename\u001b[38;5;132;01m}\u001b[39;00m\u001b[38;5;124m -> \u001b[39m\u001b[38;5;132;01m{\u001b[39;00mnew_filename\u001b[38;5;132;01m}\u001b[39;00m\u001b[38;5;124m'\u001b[39m)\n",
      "\u001b[1;31mFileNotFoundError\u001b[0m: [WinError 3] Impossibile trovare il percorso specificato: '../dataset/CS2_35\\\\CS2_35_01_10_11.xlsx' -> '../dataset/CS2_35/ordered\\\\CS2_35_11_01_10.xlsx'"
     ]
    }
   ],
   "source": [
    "import os\n",
    "import re\n",
    "from datetime import datetime\n",
    "directory_path = '../dataset/CS2_35'\n",
    "\n",
    "# def rename_and_remove_files(directory_path):\n",
    "    # Ottenere la lista dei file nella directory specificata\n",
    "files = [f for f in os.listdir(directory_path) if os.path.isfile(os.path.join(directory_path, f))]\n",
    "\n",
    "for filename in files:\n",
    "    # Verificare che il file abbia il formato CS2_xx_mm_dd_yy\n",
    "    match = re.match(r'CS2_(\\d{2})_(\\d{2})_(\\d{2})_(\\d{2})\\.xlsx', filename)\n",
    "    if match:\n",
    "        print(\"Entra?\")\n",
    "        # Estrarre le parti della data dal nome del file\n",
    "        xx, mm, dd, yy = match.groups()\n",
    "\n",
    "        # Creare la nuova data nel formato CS2_xx_yy_mm_dd\n",
    "        new_filename = f'CS2_{xx}_{yy}_{mm}_{dd}.xlsx'\n",
    "\n",
    "        # Costruire i percorsi completi dei file originali e rinominati\n",
    "        old_filepath = os.path.join(directory_path, filename)\n",
    "        new_filepath = os.path.join(f'{directory_path}/ordered', new_filename)\n",
    "\n",
    "        # Rinominare il file\n",
    "        os.rename(old_filepath, new_filepath)\n",
    "\n",
    "        print(f'Rinominato: {filename} -> {new_filename}')\n",
    "\n",
    "\n"
   ]
  },
  {
   "cell_type": "code",
   "execution_count": 4,
   "metadata": {},
   "outputs": [
    {
     "ename": "NameError",
     "evalue": "name 'rename_and_remove_files' is not defined",
     "output_type": "error",
     "traceback": [
      "\u001b[1;31m---------------------------------------------------------------------------\u001b[0m",
      "\u001b[1;31mNameError\u001b[0m                                 Traceback (most recent call last)",
      "Cell \u001b[1;32mIn[4], line 5\u001b[0m\n\u001b[0;32m      2\u001b[0m directory_path \u001b[38;5;241m=\u001b[39m \u001b[38;5;124m'\u001b[39m\u001b[38;5;124m../dataset/CS2_33\u001b[39m\u001b[38;5;124m'\u001b[39m\n\u001b[0;32m      4\u001b[0m \u001b[38;5;66;03m# Richiamare la funzione per rinominare e eliminare i file\u001b[39;00m\n\u001b[1;32m----> 5\u001b[0m \u001b[43mrename_and_remove_files\u001b[49m(directory_path)\n",
      "\u001b[1;31mNameError\u001b[0m: name 'rename_and_remove_files' is not defined"
     ]
    }
   ],
   "source": [
    "# Specificare il percorso della directory contenente i file Excel\n",
    "directory_path = '../dataset/CS2_33'\n",
    "\n",
    "# Richiamare la funzione per rinominare e eliminare i file\n",
    "rename_and_remove_files(directory_path)"
   ]
  }
 ],
 "metadata": {
  "kernelspec": {
   "display_name": "Python 3",
   "language": "python",
   "name": "python3"
  },
  "language_info": {
   "codemirror_mode": {
    "name": "ipython",
    "version": 3
   },
   "file_extension": ".py",
   "mimetype": "text/x-python",
   "name": "python",
   "nbconvert_exporter": "python",
   "pygments_lexer": "ipython3",
   "version": "3.9.12"
  }
 },
 "nbformat": 4,
 "nbformat_minor": 2
}

{
 "cells": [
  {
   "cell_type": "code",
   "execution_count": 1,
   "metadata": {},
   "outputs": [],
   "source": [
    "%%capture\n",
    "%cd .."
   ]
  },
  {
   "cell_type": "code",
   "execution_count": null,
   "metadata": {},
   "outputs": [],
   "source": [
    "test_time:str = 'Test_Time(s)'\n",
    "date_time:str = 'Date_Time'\n",
    "step_time:str = 'Step_Time(s)'\n",
    "c_index:str = 'Cycle_Index'\n",
    "step_index:str = 'Step_Index'\n",
    "current:str = 'Current(A)'\n",
    "voltage:str = 'Voltage(V)'\n",
    "charge_cap:str = 'Charge_Capacity(Ah)'\n",
    "discharge_cap:str = 'Discharge_Capacity(Ah)'\n",
    "channel:str = 'Channel'\n",
    "dataset_root = 'src/dataset'\n",
    "ds_cleaned = f'{dataset_root}/cleaned'\n",
    "index = 'Index'\n",
    "\n",
    "charge_indexes = [\n",
    "    1,\n",
    "    3,\n",
    "    5,\n",
    "    6,\n",
    "    8,\n",
    "    7,\n",
    "    9,\n",
    "]\n",
    "discharge_indexes = [\n",
    "    1,\n",
    "    2,\n",
    "    3,\n",
    "    4,\n",
    "    5,\n",
    "    6,\n",
    "    8,\n",
    "    9,\n",
    "]\n",
    "white_list = [\n",
    "    test_time,\n",
    "    date_time,\n",
    "    step_time,\n",
    "    c_index,\n",
    "    step_index,\n",
    "    voltage,\n",
    "    current,\n",
    "    charge_cap,\n",
    "    discharge_cap]\n",
    "\n",
    "charge_list = [\n",
    "    step_index,\n",
    "    c_index,\n",
    "    current,\n",
    "    voltage,\n",
    "    charge_cap\n",
    "]\n",
    "\n",
    "discharge_list = [\n",
    "    step_index,\n",
    "    c_index,\n",
    "    current,\n",
    "    voltage,\n",
    "    discharge_cap\n",
    "]"
   ]
  },
  {
   "cell_type": "code",
   "execution_count": 5,
   "metadata": {},
   "outputs": [],
   "source": [
    "import pandas as pd\n",
    "import os\n",
    "from utils import constants as cs\n",
    "from datetime import datetime\n",
    "import os\n",
    "\n",
    "\n",
    "# merge all files in specific folder\n",
    "def merge_files (data_dir: str = 'dataset/CS2_38', file_name:str = 'CS2_38', is_charge = True):\n",
    "    # define new data frame\n",
    "    cleaned = pd.DataFrame()\n",
    "    \n",
    "    # consider only channel sheets\n",
    "    for filename in os.listdir(data_dir):\n",
    "        xls_file = pd.ExcelFile(os.path.join(data_dir, filename))\n",
    "        sheet_fnames = [sheet for sheet in xls_file.sheet_names if sheet.startswith(cs.channel)]\n",
    "        # cycle all files \n",
    "        for sheet_fname in sheet_fnames:\n",
    "            df = pd.read_excel(os.path.join(data_dir, filename), sheet_name=sheet_fname)\n",
    "            df = df[cs.white_list]\n",
    "            # convert datetime\n",
    "            df[cs.date_time] = df[cs.date_time].apply(lambda x: datetime.strptime(str(x), \"%Y-%m-%d %H:%M:%S\").timestamp())\n",
    "            # find negative rows\n",
    "            # df = df[(df[cs.test_time] < 0) | (df[cs.step_time] < 0) | (df[cs.date_time] < 0)]\n",
    "            df = df[~((df[cs.test_time] < 0) | (df[cs.step_time] < 0) | (df[cs.date_time] < 0))]\n",
    "\n",
    "            # drop invalid rows\n",
    "            # df = df[~(invalid_rows)]\n",
    "            # find max cycle value for each sheet\n",
    "            max_cindex = cleaned[cs.c_index].max() if not df.empty else 0\n",
    "            # update total cycle index\n",
    "            df[cs.c_index] += max_cindex\n",
    "            # concat all files \n",
    "            cleaned = pd.concat([cleaned, df], ignore_index=True)\n",
    "            if is_charge: \n",
    "                # consider only step index 2-4\n",
    "                cleaned = cleaned[~cleaned[cs.step_index].isin(cs.charge_indexes)]\n",
    "                # check current\n",
    "                cond_sindex = (cleaned[cs.step_index] == 4)\n",
    "                cond_curr = (cleaned[cs.current] > 0.55)\n",
    "                # reduce dataframe\n",
    "                cleaned = cleaned[~(cond_sindex & cond_curr)]\n",
    "                for key, group in cleaned.groupby(cs.c_index):\n",
    "                    diffs =  group[cs.current].diff().abs() \n",
    "                    mask = ~(diffs > 0.0502)\n",
    "                    cleaned.loc[cleaned[cs.c_index] == key, :] = cleaned.loc[cleaned[cs.c_index] == key, :][mask]\n",
    "                cleaned = cleaned[cs.charge_list]\n",
    "                cleaned.to_csv(os.path.join(cs.ds_cleaned, f'charge-{file_name}'), index=False)    \n",
    "            else:\n",
    "                # consider only step index 7\n",
    "                cleaned = cleaned[~cleaned[cs.step_index].isin(cs.discharge_indexes)]\n",
    "                cleaned = cleaned[cs.discharge_list]\n",
    "                cleaned.to_csv(os.path.join(cs.ds_cleaned, f'discharge-{file_name}'), index=False)    \n"
   ]
  },
  {
   "cell_type": "code",
   "execution_count": 6,
   "metadata": {},
   "outputs": [
    {
     "ename": "FileNotFoundError",
     "evalue": "[WinError 3] Impossibile trovare il percorso specificato: 'src/dataset'",
     "output_type": "error",
     "traceback": [
      "\u001b[1;31m---------------------------------------------------------------------------\u001b[0m",
      "\u001b[1;31mFileNotFoundError\u001b[0m                         Traceback (most recent call last)",
      "Cell \u001b[1;32mIn[6], line 1\u001b[0m\n\u001b[1;32m----> 1\u001b[0m ds_root \u001b[38;5;241m=\u001b[39m \u001b[43mos\u001b[49m\u001b[38;5;241;43m.\u001b[39;49m\u001b[43mlistdir\u001b[49m\u001b[43m(\u001b[49m\u001b[43mcs\u001b[49m\u001b[38;5;241;43m.\u001b[39;49m\u001b[43mdataset_root\u001b[49m\u001b[43m)\u001b[49m\n\u001b[0;32m      3\u001b[0m \u001b[38;5;28;01mfor\u001b[39;00m folder \u001b[38;5;129;01min\u001b[39;00m ds_root:\n\u001b[0;32m      4\u001b[0m     \u001b[38;5;28;01mif\u001b[39;00m folder\u001b[38;5;241m.\u001b[39mstartswith(\u001b[38;5;124m'\u001b[39m\u001b[38;5;124mCS2\u001b[39m\u001b[38;5;124m'\u001b[39m):\n",
      "\u001b[1;31mFileNotFoundError\u001b[0m: [WinError 3] Impossibile trovare il percorso specificato: 'src/dataset'"
     ]
    }
   ],
   "source": [
    "ds_root = os.listdir(cs.dataset_root)\n",
    "\n",
    "for folder in ds_root:\n",
    "    if folder.startswith('CS2'):\n",
    "        merge_files(data_dir = f'{cs.dataset_root}/{folder}', file_name = f'{folder}.csv')   \n",
    "        merge_files(data_dir = f'{cs.dataset_root}/{folder}', file_name = f'{folder}.csv', is_charge=False)"
   ]
  },
  {
   "cell_type": "code",
   "execution_count": null,
   "metadata": {},
   "outputs": [],
   "source": [
    "# Imports\n",
    "import pandas as pd\n",
    "import os\n",
    "import numpy as np\n",
    "import matplotlib.pyplot as plt\n",
    "from utils.constants import white_list"
   ]
  },
  {
   "cell_type": "code",
   "execution_count": null,
   "metadata": {},
   "outputs": [],
   "source": [
    "# Some constants values\n",
    "data_dir: str = \"dataset/CS2_38\"\n",
    "cleaned = \"dataset/cleaned\"\n",
    "df = pd.DataFrame()\n",
    "hi = pd.DataFrame()\n",
    "\n",
    "current = 'Current(A)'\n",
    "voltage = 'Voltage(V)'\n",
    "c_index = 'Cycle_Index'\n",
    "# time = 'Test_Time(s)'\n",
    "t0_voltage = 3.8\n",
    "t1_voltage = 4.1999\n",
    "\n",
    "datasets = {}"
   ]
  },
  {
   "cell_type": "code",
   "execution_count": null,
   "metadata": {},
   "outputs": [],
   "source": [
    "CS2_38_cleaned = pd.DataFrame()\n",
    "\n",
    "for filename in os.listdir(data_dir):\n",
    "    xls_file = pd.ExcelFile(os.path.join(data_dir, filename))\n",
    "    sheet_fnames = [sheet for sheet in xls_file.sheet_names if sheet.startswith('Channel')]\n",
    "\n",
    "    # print(filename)\n",
    "    for sheet_fname in sheet_fnames:\n",
    "        df_temp = pd.read_excel(os.path.join(data_dir, filename), sheet_name=sheet_fname)\n",
    "        df_temp = df_temp[white_list]\n",
    "        # Trovare il massimo valore di Cycle_Index in CS2_38_cleaned\n",
    "        max_combined_cycle_index = CS2_38_cleaned['Cycle_Index'].max() if not CS2_38_cleaned.empty else 0\n",
    "        print(max_combined_cycle_index)\n",
    "        # Aggiornare i valori di Cycle_Index nel DataFrame corrente\n",
    "        df_temp['Cycle_Index'] += max_combined_cycle_index\n",
    "        print(df_temp['Cycle_Index'])\n",
    "        # Aggiungere il DataFrame corrente a CS2_38_cleaned\n",
    "        CS2_38_cleaned = pd.concat([CS2_38_cleaned, df_temp], ignore_index=True)"
   ]
  },
  {
   "cell_type": "code",
   "execution_count": null,
   "metadata": {},
   "outputs": [],
   "source": [
    "CS2_38_cleaned.to_csv(os.path.join(cleaned, 'CS2_38_cleaned.csv'), index=False)"
   ]
  },
  {
   "cell_type": "code",
   "execution_count": null,
   "metadata": {},
   "outputs": [],
   "source": [
    "path: str = 'dataset/cleaned/CS2_38_cleaned.csv'\n",
    "# Carica il DataFrame dal tuo file CSV\n",
    "df_concat = pd.read_csv(path)\n",
    "df_concat['Index'] = df_concat.index\n",
    "max_voltage = df_concat[voltage].max()\n",
    "min_voltage = df_concat[voltage].min()\n",
    "\n",
    "# mean_voltage = df_concat[voltage].mean()\n",
    "# mean_voltage = (mean_voltage - min_voltage) / (max_voltage - min_voltage)\n",
    "# std_voltage = df_concat[voltage].std()\n",
    "# std_voltage = (std_voltage - min_voltage) / (max_voltage - min_voltage)\n"
   ]
  },
  {
   "cell_type": "code",
   "execution_count": null,
   "metadata": {},
   "outputs": [],
   "source": [
    "df_concat"
   ]
  },
  {
   "cell_type": "code",
   "execution_count": null,
   "metadata": {},
   "outputs": [],
   "source": [
    "print(max_voltage, min_voltage)"
   ]
  },
  {
   "cell_type": "code",
   "execution_count": null,
   "metadata": {},
   "outputs": [],
   "source": [
    "\n",
    "for key, group in df_concat.groupby(c_index):\n",
    "    t0_index = (group[voltage] >= t0_voltage).idxmax()\n",
    "    t1_index = (group[voltage] >= t1_voltage).idxmax()\n",
    "    group[voltage] = (group[voltage] - min_voltage) / (max_voltage - min_voltage)\n",
    "    \n",
    "    mean_voltage = group[voltage].mean()\n",
    "    std_voltage = group[voltage].std()\n",
    "    group[voltage] = (group[voltage]- mean_voltage) / std_voltage\n",
    "    selected_rows = group[(group['Index'] >= t0_index) & (group['Index'] <= t1_index)]\n",
    "    hi_v = selected_rows[voltage].sum()\n",
    "    # hi_v = np.trapz(selected_rows[voltage])\n",
    "    cycle = group[c_index].iloc[0]\n",
    "    # for i in range(t0_index, t1_index):\n",
    "    #     hi_v = \n",
    "    # hi_v = group[voltage].iloc[t0_index:t1_index + 1].sum()\n",
    "\n",
    "    print(cycle)\n",
    "    # group[voltage].to_csv(f'dataset/cycles/{key}.csv')\n",
    "    row = pd.DataFrame([{'hi_v': hi_v, 'cycle': cycle}])\n",
    "    hi = pd.concat([hi, row])"
   ]
  },
  {
   "cell_type": "code",
   "execution_count": null,
   "metadata": {},
   "outputs": [],
   "source": [
    "print(hi)"
   ]
  },
  {
   "cell_type": "code",
   "execution_count": null,
   "metadata": {},
   "outputs": [],
   "source": [
    "hi.to_csv(f'{cleaned}/hi.csv')\n"
   ]
  },
  {
   "cell_type": "code",
   "execution_count": null,
   "metadata": {},
   "outputs": [],
   "source": [
    "plt.plot( hi[\"cycle\"], hi[\"hi_v\"])\n",
    "plt.show()\n"
   ]
  },
  {
   "cell_type": "code",
   "execution_count": null,
   "metadata": {},
   "outputs": [],
   "source": [
    "for filename in os.listdir(data_dir):\n",
    "    xls_file = pd.ExcelFile(f'{data_dir}/{filename}')\n",
    "    sheet_fnames = [sheet for sheet in xls_file.sheet_names if sheet.startswith('Channel')]\n",
    "    for sheet_fname in sheet_fnames:\n",
    "        df_temp = pd.read_excel(f'{data_dir}/{filename}', sheet_name=sheet_fname)\n",
    "        df_temp = df_temp[white_list]\n",
    "        max_voltage = df_temp[voltage].max()\n",
    "        min_voltage = df_temp[voltage].min()\n",
    "        \n",
    "        # df_temp = df_temp[(df_temp[voltage] >= min_voltage) & (df_temp[voltage] <= max_voltage)]\n",
    "        df_temp = df_temp[df_temp[voltage].diff().gt(0)]\n",
    "        \n",
    "        \n",
    "        # mean_voltage = df_temp[voltage].mean()\n",
    "        # std_voltage = df_temp[voltage].std()\n",
    "\n",
    "        #Standardization\n",
    "        # df_temp[voltage] = (df_temp[voltage] - mean_voltage) / std_voltage\n",
    "\n",
    "        \n",
    "\n",
    "        grouped_df = df_temp.groupby(df_temp[c_index])\n",
    "\n",
    "        for key, group in grouped_df:\n",
    "            t0_index = (group[voltage] >= t0_voltage).idxmax()\n",
    "            t1_index = (group[voltage] >= t1_voltage).idxmax()\n",
    "            #Normalization\n",
    "            group[voltage] = (group[voltage] - min_voltage) / (max_voltage - min_voltage)\n",
    "            # print( group[voltage] )\n",
    "            # voltage_normalized = (group[voltage] - min_voltage) / (max_voltage - min_voltage)\n",
    "            # hi_v = np.trapz(group[voltage])\n",
    "            # hi_v = group[voltage].sum()\n",
    "            hi_v = np.trapz(group[voltage].iloc[t0_index:t1_index + 1])\n",
    "            # hi_v = group[voltage].iloc[t0_index:t1_index + 1].sum()\n",
    "            # hi_v = 0\n",
    "            # for i in range(t0_index, t1_index-1):\n",
    "            #     hi_v += group[voltage].iloc[i]\n",
    "            row = pd.DataFrame([{'hi_v': hi_v}])\n",
    "            hi = pd.concat([hi, row])\n",
    "            print(\"ale puzza:\",max_voltage, min_voltage)\n"
   ]
  },
  {
   "cell_type": "code",
   "execution_count": null,
   "metadata": {},
   "outputs": [],
   "source": [
    "print(hi)"
   ]
  },
  {
   "cell_type": "code",
   "execution_count": null,
   "metadata": {},
   "outputs": [],
   "source": [
    "plt.plot(hi_v)"
   ]
  },
  {
   "cell_type": "code",
   "execution_count": null,
   "metadata": {},
   "outputs": [],
   "source": [
    "hi.to_csv(f'{cleaned}/hi.csv')"
   ]
  },
  {
   "cell_type": "code",
   "execution_count": null,
   "metadata": {},
   "outputs": [],
   "source": [
    "# #Cycle all excel files in the same folder\n",
    "# for filename in os.listdir(data_dir):\n",
    "#     xls_file = pd.ExcelFile(f'{data_dir}/{filename}')\n",
    "#     sheet_fnames = [sheet for sheet in xls_file.sheet_names if sheet.startswith('Channel')]\n",
    "    \n",
    "#     df_list = []  # List to accumulate DataFrames for each sheet\n",
    "    \n",
    "#     for sheet_fname in sheet_fnames:\n",
    "#         df_temp = pd.read_excel(f'{data_dir}/{filename}', sheet_name=sheet_fname)\n",
    "#         df_temp = df_temp[[voltage, current, c_index  ]]\n",
    "#         df_temp = df_temp[(df_temp[voltage] >= min_voltage) & (df_temp[voltage] <= max_voltage)]\n",
    "#         df_temp = df_temp[df_temp[voltage].diff().gt(0)]\n",
    "        \n",
    "#         df_list.append(df_temp)  # Append the DataFrame to the list\n",
    "    \n",
    "#     datasets[filename] = pd.concat(df_list).to_numpy()\n",
    "\n",
    "# # Now, concatenate the values from all datasets\n",
    "# df_cycle = np.concatenate([dataset[:, 0] for dataset in datasets.values()])\n",
    "# df_values = np.concatenate([np.delete(dataset, 0, axis=1) for dataset in datasets.values()])\n",
    "\n",
    "# # Calculate mean and std\n",
    "# X_mean, X_std = df_values.mean(0), df_values.std(0)\n",
    "\n",
    "# # Normalize values\n",
    "# df_values = (df_values - X_mean) / X_std\n",
    "\n",
    "# # Min and max after normalization\n",
    "# X_min, X_max = df_values.min(), df_values.max()"
   ]
  }
 ],
 "metadata": {
  "kernelspec": {
   "display_name": "Python 3",
   "language": "python",
   "name": "python3"
  },
  "language_info": {
   "codemirror_mode": {
    "name": "ipython",
    "version": 3
   },
   "file_extension": ".py",
   "mimetype": "text/x-python",
   "name": "python",
   "nbconvert_exporter": "python",
   "pygments_lexer": "ipython3",
   "version": "3.9.12"
  }
 },
 "nbformat": 4,
 "nbformat_minor": 2
}

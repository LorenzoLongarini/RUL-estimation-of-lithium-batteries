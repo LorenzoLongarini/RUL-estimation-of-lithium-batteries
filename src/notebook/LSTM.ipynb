{
 "cells": [
  {
   "cell_type": "code",
   "execution_count": 1,
   "metadata": {},
   "outputs": [],
   "source": [
    "%%capture\n",
    "%cd .."
   ]
  },
  {
   "cell_type": "code",
   "execution_count": 2,
   "metadata": {},
   "outputs": [],
   "source": [
    "import numpy as np\n",
    "import pandas as pd\n",
    "from sklearn.model_selection import train_test_split\n",
    "from sklearn.preprocessing import StandardScaler\n",
    "from keras.models import Sequential\n",
    "from keras.layers import Embedding, LSTM, Dense, Flatten"
   ]
  },
  {
   "cell_type": "markdown",
   "metadata": {},
   "source": [
    "# Define LSTM model"
   ]
  },
  {
   "cell_type": "code",
   "execution_count": 3,
   "metadata": {},
   "outputs": [],
   "source": [
    "path:str = \"dataset/cleaned/hi.csv\"\n",
    "\n",
    "# Carica i dati dal file CSV\n",
    "df = pd.read_csv(path)\n",
    "\n",
    "# Seleziona la colonna 'hi_v' come input\n",
    "X = df['hi_v'].values.reshape(-1, 1)"
   ]
  },
  {
   "cell_type": "code",
   "execution_count": 4,
   "metadata": {},
   "outputs": [],
   "source": [
    "input_dim = 1\n",
    "output_dim = 64"
   ]
  },
  {
   "cell_type": "code",
   "execution_count": 5,
   "metadata": {},
   "outputs": [],
   "source": [
    "scaler = StandardScaler()\n",
    "X = scaler.fit_transform(X)"
   ]
  },
  {
   "cell_type": "code",
   "execution_count": 6,
   "metadata": {},
   "outputs": [],
   "source": [
    "y = df['hi_v'].values\n",
    "# X.flatten()"
   ]
  },
  {
   "cell_type": "code",
   "execution_count": 7,
   "metadata": {},
   "outputs": [],
   "source": [
    "X_train, X_test, y_train, y_test = train_test_split(X, y, test_size=0.2, random_state=42)"
   ]
  },
  {
   "cell_type": "code",
   "execution_count": 8,
   "metadata": {},
   "outputs": [],
   "source": [
    "X_train = X_train.reshape((X_train.shape[0], 1, X_train.shape[1]))\n",
    "X_test = X_test.reshape((X_test.shape[0], 1, X_test.shape[1]))"
   ]
  },
  {
   "cell_type": "code",
   "execution_count": 9,
   "metadata": {},
   "outputs": [
    {
     "name": "stdout",
     "output_type": "stream",
     "text": [
      "Model: \"sequential\"\n",
      "_________________________________________________________________\n",
      " Layer (type)                Output Shape              Param #   \n",
      "=================================================================\n",
      " lstm (LSTM)                 (None, 128)               66560     \n",
      "                                                                 \n",
      " dense (Dense)               (None, 1)                 129       \n",
      "                                                                 \n",
      "=================================================================\n",
      "Total params: 66,689\n",
      "Trainable params: 66,689\n",
      "Non-trainable params: 0\n",
      "_________________________________________________________________\n"
     ]
    }
   ],
   "source": [
    "model = Sequential()\n",
    "model.add(LSTM(128, input_shape=(X_train.shape[1], X_train.shape[2])))\n",
    "model.add(Dense(1))\n",
    "model.summary()"
   ]
  },
  {
   "cell_type": "code",
   "execution_count": 10,
   "metadata": {},
   "outputs": [],
   "source": [
    "# model = Sequential()\n",
    "# model.add(Embedding(input_dim=input_dim, output_dim=output_dim, input_length=1))\n",
    "# model.add(LSTM(128))\n",
    "# model.add(Dense(10))\n",
    "# model.add(Flatten())\n",
    "# model.summary()"
   ]
  },
  {
   "cell_type": "code",
   "execution_count": 14,
   "metadata": {},
   "outputs": [],
   "source": [
    "model.compile(optimizer='adam', loss='mae')"
   ]
  },
  {
   "cell_type": "code",
   "execution_count": 16,
   "metadata": {},
   "outputs": [
    {
     "name": "stdout",
     "output_type": "stream",
     "text": [
      "Epoch 1/100\n",
      "55/55 [==============================] - 0s 4ms/step - loss: 0.0249 - val_loss: 0.0499\n",
      "Epoch 2/100\n",
      "55/55 [==============================] - 0s 3ms/step - loss: 0.0237 - val_loss: 0.0408\n",
      "Epoch 3/100\n",
      "55/55 [==============================] - 0s 3ms/step - loss: 0.0191 - val_loss: 0.0204\n",
      "Epoch 4/100\n",
      "55/55 [==============================] - 0s 3ms/step - loss: 0.0127 - val_loss: 0.0102\n",
      "Epoch 5/100\n",
      "55/55 [==============================] - 0s 4ms/step - loss: 0.0116 - val_loss: 0.0403\n",
      "Epoch 6/100\n",
      "55/55 [==============================] - 0s 3ms/step - loss: 0.0138 - val_loss: 0.0186\n",
      "Epoch 7/100\n",
      "55/55 [==============================] - 0s 3ms/step - loss: 0.0175 - val_loss: 0.0102\n",
      "Epoch 8/100\n",
      "55/55 [==============================] - 0s 4ms/step - loss: 0.0211 - val_loss: 0.0111\n",
      "Epoch 9/100\n",
      "55/55 [==============================] - 0s 3ms/step - loss: 0.0140 - val_loss: 0.0172\n",
      "Epoch 10/100\n",
      "55/55 [==============================] - 0s 3ms/step - loss: 0.0139 - val_loss: 0.0221\n",
      "Epoch 11/100\n",
      "55/55 [==============================] - 0s 3ms/step - loss: 0.0168 - val_loss: 0.0187\n",
      "Epoch 12/100\n",
      "55/55 [==============================] - 0s 3ms/step - loss: 0.0151 - val_loss: 0.0072\n",
      "Epoch 13/100\n",
      "55/55 [==============================] - 0s 3ms/step - loss: 0.0117 - val_loss: 0.0146\n",
      "Epoch 14/100\n",
      "55/55 [==============================] - 0s 3ms/step - loss: 0.0169 - val_loss: 0.0346\n",
      "Epoch 15/100\n",
      "55/55 [==============================] - 0s 3ms/step - loss: 0.0120 - val_loss: 0.0108\n",
      "Epoch 16/100\n",
      "55/55 [==============================] - 0s 3ms/step - loss: 0.0119 - val_loss: 0.0202\n",
      "Epoch 17/100\n",
      "55/55 [==============================] - 0s 3ms/step - loss: 0.0204 - val_loss: 0.0297\n",
      "Epoch 18/100\n",
      "55/55 [==============================] - 0s 3ms/step - loss: 0.0267 - val_loss: 0.0145\n",
      "Epoch 19/100\n",
      "55/55 [==============================] - 0s 3ms/step - loss: 0.0174 - val_loss: 0.0110\n",
      "Epoch 20/100\n",
      "55/55 [==============================] - 0s 3ms/step - loss: 0.0149 - val_loss: 0.0177\n",
      "Epoch 21/100\n",
      "55/55 [==============================] - 0s 4ms/step - loss: 0.0164 - val_loss: 0.0193\n",
      "Epoch 22/100\n",
      "55/55 [==============================] - 0s 4ms/step - loss: 0.0200 - val_loss: 0.0152\n",
      "Epoch 23/100\n",
      "55/55 [==============================] - 0s 3ms/step - loss: 0.0145 - val_loss: 0.0174\n",
      "Epoch 24/100\n",
      "55/55 [==============================] - 0s 4ms/step - loss: 0.0161 - val_loss: 0.0066\n",
      "Epoch 25/100\n",
      "55/55 [==============================] - 0s 4ms/step - loss: 0.0144 - val_loss: 0.0183\n",
      "Epoch 26/100\n",
      "55/55 [==============================] - 0s 4ms/step - loss: 0.0211 - val_loss: 0.0338\n",
      "Epoch 27/100\n",
      "55/55 [==============================] - 0s 3ms/step - loss: 0.0162 - val_loss: 0.0161\n",
      "Epoch 28/100\n",
      "55/55 [==============================] - 0s 3ms/step - loss: 0.0205 - val_loss: 0.0347\n",
      "Epoch 29/100\n",
      "55/55 [==============================] - 0s 3ms/step - loss: 0.0196 - val_loss: 0.0305\n",
      "Epoch 30/100\n",
      "55/55 [==============================] - 0s 3ms/step - loss: 0.0187 - val_loss: 0.0196\n",
      "Epoch 31/100\n",
      "55/55 [==============================] - 0s 4ms/step - loss: 0.0137 - val_loss: 0.0071\n",
      "Epoch 32/100\n",
      "55/55 [==============================] - 0s 7ms/step - loss: 0.0161 - val_loss: 0.0120\n",
      "Epoch 33/100\n",
      "55/55 [==============================] - 0s 4ms/step - loss: 0.0151 - val_loss: 0.0164\n",
      "Epoch 34/100\n",
      "55/55 [==============================] - 0s 3ms/step - loss: 0.0151 - val_loss: 0.0272\n",
      "Epoch 35/100\n",
      "55/55 [==============================] - 0s 3ms/step - loss: 0.0185 - val_loss: 0.0315\n",
      "Epoch 36/100\n",
      "55/55 [==============================] - 0s 3ms/step - loss: 0.0202 - val_loss: 0.0116\n",
      "Epoch 37/100\n",
      "55/55 [==============================] - 0s 3ms/step - loss: 0.0172 - val_loss: 0.0157\n",
      "Epoch 38/100\n",
      "55/55 [==============================] - 0s 3ms/step - loss: 0.0164 - val_loss: 0.0227\n",
      "Epoch 39/100\n",
      "55/55 [==============================] - 0s 3ms/step - loss: 0.0155 - val_loss: 0.0094\n",
      "Epoch 40/100\n",
      "55/55 [==============================] - 0s 3ms/step - loss: 0.0216 - val_loss: 0.0046\n",
      "Epoch 41/100\n",
      "55/55 [==============================] - 0s 3ms/step - loss: 0.0240 - val_loss: 0.0399\n",
      "Epoch 42/100\n",
      "55/55 [==============================] - 0s 3ms/step - loss: 0.0149 - val_loss: 0.0044\n",
      "Epoch 43/100\n",
      "55/55 [==============================] - 0s 4ms/step - loss: 0.0153 - val_loss: 0.0177\n",
      "Epoch 44/100\n",
      "55/55 [==============================] - 0s 5ms/step - loss: 0.0139 - val_loss: 0.0338\n",
      "Epoch 45/100\n",
      "55/55 [==============================] - 0s 3ms/step - loss: 0.0242 - val_loss: 0.0202\n",
      "Epoch 46/100\n",
      "55/55 [==============================] - 0s 3ms/step - loss: 0.0171 - val_loss: 0.0406\n",
      "Epoch 47/100\n",
      "55/55 [==============================] - 0s 3ms/step - loss: 0.0247 - val_loss: 0.0367\n",
      "Epoch 48/100\n",
      "55/55 [==============================] - 0s 3ms/step - loss: 0.0173 - val_loss: 0.0185\n",
      "Epoch 49/100\n",
      "55/55 [==============================] - 0s 3ms/step - loss: 0.0122 - val_loss: 0.0226\n",
      "Epoch 50/100\n",
      "55/55 [==============================] - 0s 3ms/step - loss: 0.0139 - val_loss: 0.0123\n",
      "Epoch 51/100\n",
      "55/55 [==============================] - 0s 3ms/step - loss: 0.0123 - val_loss: 0.0252\n",
      "Epoch 52/100\n",
      "55/55 [==============================] - 0s 3ms/step - loss: 0.0187 - val_loss: 0.0246\n",
      "Epoch 53/100\n",
      "55/55 [==============================] - 0s 3ms/step - loss: 0.0237 - val_loss: 0.0404\n",
      "Epoch 54/100\n",
      "55/55 [==============================] - 0s 3ms/step - loss: 0.0198 - val_loss: 0.0177\n",
      "Epoch 55/100\n",
      "55/55 [==============================] - 0s 3ms/step - loss: 0.0306 - val_loss: 0.0415\n",
      "Epoch 56/100\n",
      "55/55 [==============================] - 0s 3ms/step - loss: 0.0152 - val_loss: 0.0170\n",
      "Epoch 57/100\n",
      "55/55 [==============================] - 0s 4ms/step - loss: 0.0159 - val_loss: 0.0132\n",
      "Epoch 58/100\n",
      "55/55 [==============================] - 0s 3ms/step - loss: 0.0214 - val_loss: 0.0142\n",
      "Epoch 59/100\n",
      "55/55 [==============================] - 0s 3ms/step - loss: 0.0158 - val_loss: 0.0169\n",
      "Epoch 60/100\n",
      "55/55 [==============================] - 0s 3ms/step - loss: 0.0116 - val_loss: 0.0146\n",
      "Epoch 61/100\n",
      "55/55 [==============================] - 0s 3ms/step - loss: 0.0151 - val_loss: 0.0101\n",
      "Epoch 62/100\n",
      "55/55 [==============================] - 0s 3ms/step - loss: 0.0147 - val_loss: 0.0481\n",
      "Epoch 63/100\n",
      "55/55 [==============================] - 0s 3ms/step - loss: 0.0211 - val_loss: 0.0253\n",
      "Epoch 64/100\n",
      "55/55 [==============================] - 0s 4ms/step - loss: 0.0222 - val_loss: 0.0343\n",
      "Epoch 65/100\n",
      "55/55 [==============================] - 0s 4ms/step - loss: 0.0257 - val_loss: 0.0259\n",
      "Epoch 66/100\n",
      "55/55 [==============================] - 0s 3ms/step - loss: 0.0275 - val_loss: 0.0127\n",
      "Epoch 67/100\n",
      "55/55 [==============================] - 0s 3ms/step - loss: 0.0234 - val_loss: 0.0342\n",
      "Epoch 68/100\n",
      "55/55 [==============================] - 0s 3ms/step - loss: 0.0212 - val_loss: 0.0084\n",
      "Epoch 69/100\n",
      "55/55 [==============================] - 0s 3ms/step - loss: 0.0212 - val_loss: 0.0133\n",
      "Epoch 70/100\n",
      "55/55 [==============================] - 0s 4ms/step - loss: 0.0152 - val_loss: 0.0211\n",
      "Epoch 71/100\n",
      "55/55 [==============================] - 0s 4ms/step - loss: 0.0164 - val_loss: 0.0087\n",
      "Epoch 72/100\n",
      "55/55 [==============================] - 0s 3ms/step - loss: 0.0151 - val_loss: 0.0187\n",
      "Epoch 73/100\n",
      "55/55 [==============================] - 0s 3ms/step - loss: 0.0139 - val_loss: 0.0158\n",
      "Epoch 74/100\n",
      "55/55 [==============================] - 0s 3ms/step - loss: 0.0140 - val_loss: 0.0093\n",
      "Epoch 75/100\n",
      "55/55 [==============================] - 0s 3ms/step - loss: 0.0163 - val_loss: 0.0109\n",
      "Epoch 76/100\n",
      "55/55 [==============================] - 0s 3ms/step - loss: 0.0158 - val_loss: 0.0158\n",
      "Epoch 77/100\n",
      "55/55 [==============================] - 0s 3ms/step - loss: 0.0136 - val_loss: 0.0174\n",
      "Epoch 78/100\n",
      "55/55 [==============================] - 0s 3ms/step - loss: 0.0193 - val_loss: 0.0276\n",
      "Epoch 79/100\n",
      "55/55 [==============================] - 0s 3ms/step - loss: 0.0160 - val_loss: 0.0167\n",
      "Epoch 80/100\n",
      "55/55 [==============================] - 0s 3ms/step - loss: 0.0133 - val_loss: 0.0139\n",
      "Epoch 81/100\n",
      "55/55 [==============================] - 0s 3ms/step - loss: 0.0148 - val_loss: 0.0533\n",
      "Epoch 82/100\n",
      "55/55 [==============================] - 0s 4ms/step - loss: 0.0312 - val_loss: 0.0417\n",
      "Epoch 83/100\n",
      "55/55 [==============================] - 0s 4ms/step - loss: 0.0193 - val_loss: 0.0099\n",
      "Epoch 84/100\n",
      "55/55 [==============================] - 0s 3ms/step - loss: 0.0170 - val_loss: 0.0319\n",
      "Epoch 85/100\n",
      "55/55 [==============================] - 0s 4ms/step - loss: 0.0142 - val_loss: 0.0167\n",
      "Epoch 86/100\n",
      "55/55 [==============================] - 0s 4ms/step - loss: 0.0213 - val_loss: 0.0131\n",
      "Epoch 87/100\n",
      "55/55 [==============================] - 0s 4ms/step - loss: 0.0202 - val_loss: 0.0310\n",
      "Epoch 88/100\n",
      "55/55 [==============================] - 0s 4ms/step - loss: 0.0264 - val_loss: 0.0256\n",
      "Epoch 89/100\n",
      "55/55 [==============================] - 0s 4ms/step - loss: 0.0159 - val_loss: 0.0340\n",
      "Epoch 90/100\n",
      "55/55 [==============================] - 0s 4ms/step - loss: 0.0177 - val_loss: 0.0229\n",
      "Epoch 91/100\n",
      "55/55 [==============================] - 0s 3ms/step - loss: 0.0204 - val_loss: 0.0141\n",
      "Epoch 92/100\n",
      "55/55 [==============================] - 0s 3ms/step - loss: 0.0178 - val_loss: 0.0107\n",
      "Epoch 93/100\n",
      "55/55 [==============================] - 0s 4ms/step - loss: 0.0146 - val_loss: 0.0103\n",
      "Epoch 94/100\n",
      "55/55 [==============================] - 0s 3ms/step - loss: 0.0120 - val_loss: 0.0140\n",
      "Epoch 95/100\n",
      "55/55 [==============================] - 0s 4ms/step - loss: 0.0176 - val_loss: 0.0244\n",
      "Epoch 96/100\n",
      "55/55 [==============================] - 0s 4ms/step - loss: 0.0160 - val_loss: 0.0081\n",
      "Epoch 97/100\n",
      "55/55 [==============================] - 0s 4ms/step - loss: 0.0175 - val_loss: 0.0262\n",
      "Epoch 98/100\n",
      "55/55 [==============================] - 0s 4ms/step - loss: 0.0162 - val_loss: 0.0073\n",
      "Epoch 99/100\n",
      "55/55 [==============================] - 0s 4ms/step - loss: 0.0275 - val_loss: 0.0093\n",
      "Epoch 100/100\n",
      "55/55 [==============================] - 0s 4ms/step - loss: 0.0150 - val_loss: 0.0086\n"
     ]
    },
    {
     "data": {
      "text/plain": [
       "<keras.callbacks.History at 0x1b7a9df83a0>"
      ]
     },
     "execution_count": 16,
     "metadata": {},
     "output_type": "execute_result"
    }
   ],
   "source": [
    "model.fit(X_train, y_train, epochs=100, batch_size=32, validation_data=(X_test, y_test))"
   ]
  },
  {
   "cell_type": "code",
   "execution_count": 18,
   "metadata": {},
   "outputs": [
    {
     "name": "stdout",
     "output_type": "stream",
     "text": [
      " 1/14 [=>............................] - ETA: 0s - loss: 0.0068"
     ]
    },
    {
     "name": "stdout",
     "output_type": "stream",
     "text": [
      "14/14 [==============================] - 0s 2ms/step - loss: 0.0086\n",
      "Mean Squared Error on Test Set: 0.8641553111374378 %\n"
     ]
    }
   ],
   "source": [
    "mae = model.evaluate(X_test, y_test)\n",
    "print(f'Mean Squared Error on Test Set: {mae * 100} %')"
   ]
  }
 ],
 "metadata": {
  "kernelspec": {
   "display_name": "Python 3",
   "language": "python",
   "name": "python3"
  },
  "language_info": {
   "codemirror_mode": {
    "name": "ipython",
    "version": 3
   },
   "file_extension": ".py",
   "mimetype": "text/x-python",
   "name": "python",
   "nbconvert_exporter": "python",
   "pygments_lexer": "ipython3",
   "version": "3.9.12"
  }
 },
 "nbformat": 4,
 "nbformat_minor": 2
}

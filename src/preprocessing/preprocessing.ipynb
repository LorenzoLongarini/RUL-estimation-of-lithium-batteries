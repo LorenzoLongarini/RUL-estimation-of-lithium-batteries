{
 "cells": [
  {
   "cell_type": "code",
   "execution_count": null,
   "metadata": {},
   "outputs": [],
   "source": [
    "# Imports\n",
    "import pandas as pd\n",
    "import os\n",
    "import numpy as np"
   ]
  },
  {
   "cell_type": "code",
   "execution_count": null,
   "metadata": {},
   "outputs": [],
   "source": [
    "# Some constants values\n",
    "data_dir: str = '../dataset/CS2_36-38'\n",
    "cleaned = '../dataset/cleaned'\n",
    "df = pd.DataFrame()\n",
    "hi = pd.DataFrame()\n",
    "\n",
    "current = 'Current(A)'\n",
    "voltage = 'Voltage(V)'\n",
    "c_index = 'Cycle_Index'\n",
    "# time = 'Test_Time(s)'\n",
    "min_voltage = 3.8\n",
    "max_voltage = 4.2001\n",
    "\n",
    "datasets = {}"
   ]
  },
  {
   "cell_type": "code",
   "execution_count": null,
   "metadata": {},
   "outputs": [],
   "source": [
    "#Cycle all excel files in the same folder\n",
    "for filename in os.listdir(data_dir):\n",
    "    xls_file = pd.ExcelFile(f'{data_dir}/{filename}')\n",
    "    sheet_fnames = [sheet for sheet in xls_file.sheet_names if sheet.startswith('Channel')]\n",
    "    \n",
    "    df_list = []  # List to accumulate DataFrames for each sheet\n",
    "    \n",
    "    for sheet_fname in sheet_fnames:\n",
    "        df_temp = pd.read_excel(f'{data_dir}/{filename}', sheet_name=sheet_fname)\n",
    "        df_temp = df_temp[[voltage, current, c_index  ]]\n",
    "        df_temp = df_temp[(df_temp[voltage] >= min_voltage) & (df_temp[voltage] <= max_voltage)]\n",
    "        df_temp = df_temp[df_temp[voltage].diff().gt(0)]\n",
    "        \n",
    "        df_list.append(df_temp)  # Append the DataFrame to the list\n",
    "    \n",
    "    datasets[filename] = pd.concat(df_list).to_numpy()\n",
    "\n",
    "# Now, concatenate the values from all datasets\n",
    "df_cycle = np.concatenate([dataset[:, 0] for dataset in datasets.values()])\n",
    "df_values = np.concatenate([np.delete(dataset, 0, axis=1) for dataset in datasets.values()])\n",
    "\n",
    "# Calculate mean and std\n",
    "X_mean, X_std = df_values.mean(0), df_values.std(0)\n",
    "\n",
    "# Normalize values\n",
    "df_values = (df_values - X_mean) / X_std\n",
    "\n",
    "# Min and max after normalization\n",
    "X_min, X_max = df_values.min(), df_values.max()"
   ]
  },
  {
   "cell_type": "code",
   "execution_count": null,
   "metadata": {},
   "outputs": [],
   "source": [
    "ds_normalized = np.column_stack((df_values, df_cycle.reshape(-1, 1)))\n"
   ]
  },
  {
   "cell_type": "code",
   "execution_count": null,
   "metadata": {},
   "outputs": [],
   "source": [
    "ds_normalized"
   ]
  },
  {
   "cell_type": "code",
   "execution_count": null,
   "metadata": {},
   "outputs": [],
   "source": [
    "max_index = int(np.max(ds_normalized[:, 2]))\n",
    "\n",
    "# Inizializza una lista per contenere i risultati\n",
    "hi_data = []\n",
    "\n",
    "# Inizializza hi_v e hi_i\n",
    "hi_v = 0\n",
    "hi_i = 0\n",
    "index = 0\n",
    "# Loop for per sommare gli elementi con il valore specifico nel terzo elemento\n",
    "for element in ds_normalized:\n",
    "    if element[2] == index:\n",
    "        hi_v += element[0]\n",
    "        hi_i += element[1]\n",
    "    else:\n",
    "        row = {'hi_v': hi_v, 'hi_i': hi_i}\n",
    "        hi_data.append(row)\n",
    "        index += 1\n",
    "        hi_v = element[0]\n",
    "        hi_i = element[1]\n",
    "\n",
    "# Aggiungi l'ultima riga fuori dal ciclo\n",
    "row = {'hi_v': hi_v, 'hi_i': hi_i}\n",
    "hi_data.append(row)\n",
    "\n",
    "# Crea il DataFrame finale\n",
    "hi = pd.DataFrame(hi_data)\n"
   ]
  },
  {
   "cell_type": "code",
   "execution_count": null,
   "metadata": {},
   "outputs": [],
   "source": [
    "hi.to_csv(f'{cleaned}/hi.csv')"
   ]
  },
  {
   "cell_type": "code",
   "execution_count": null,
   "metadata": {},
   "outputs": [],
   "source": [
    "max_index = np.max(ds_normalized[:, 2])\n",
    "\n",
    "# Inizializza una lista per contenere i risultati\n",
    "hi_v = 0\n",
    "hi_i = 0\n",
    "index = 1\n",
    "# Loop for per sommare gli elementi con il valore specifico nel terzo elemento\n",
    "for element in ds_normalized:\n",
    "    while index <= max_index:\n",
    "        if element[2] == index:\n",
    "            hi_v += element[0]\n",
    "            hi_i += element[1]\n",
    "        else: \n",
    "            row = pd.DataFrame([{'hi_v': hi_v, 'hi_i':hi_i}])\n",
    "            index += 1\n",
    "            hi = pd.concat([hi, row])\n",
    "        \n",
    "\n",
    "# df = pd.concat([df, df_temp[0]])\n",
    "    # if row[2] == specific_value:\n",
    "    #     row_sum = np.sum(row[:2])  # Somma i primi due elementi della riga\n",
    "    #     sum_result.append(row_sum)"
   ]
  },
  {
   "cell_type": "code",
   "execution_count": null,
   "metadata": {},
   "outputs": [],
   "source": [
    "\n",
    "\n",
    "# Creazione del DataFrame df_normalized\n",
    "df_normalized = pd.DataFrame(data=ds_normalized, columns=['Voltage(V)', 'Current(A)', 'Cycle_Index'])\n",
    "\n",
    "# Creazione delle colonne hi_v e hi_i\n",
    "df_normalized['hi_v'] = df_normalized.groupby('Cycle_Index')['Voltage(V)'].cumsum()\n",
    "df_normalized['hi_i'] = df_normalized.groupby('Cycle_Index')['Current(A)'].cumsum()\n",
    "\n",
    "# Creazione di un nuovo DataFrame contenente solo le colonne desiderate\n",
    "df_result = df_normalized[['hi_v', 'hi_i']]\n",
    "\n",
    "# Salvataggio del nuovo DataFrame in un file CSV\n",
    "df_result.to_csv('output.csv', index=False)\n"
   ]
  },
  {
   "cell_type": "code",
   "execution_count": null,
   "metadata": {},
   "outputs": [],
   "source": [
    "for filename in os.listdir(data_dir):\n",
    "    xls_file = pd.ExcelFile(f'{data_dir}/{filename}')\n",
    "    sheet_fnames = [sheet for sheet in xls_file.sheet_names if sheet.startswith('Channel')]\n",
    "    for sheet_fname in sheet_fnames:\n",
    "        df_temp = pd.read_excel(f'{data_dir}/{filename}', sheet_name=sheet_fname)\n",
    "        df_temp = df_temp[[c_index, current, voltage]]\n",
    "        df_temp = df_temp[(df_temp[voltage] >= min_voltage) & (df_temp[voltage] <= max_voltage)]\n",
    "        df_temp = df_temp[df_temp[voltage].diff().gt(0)]\n",
    "\n",
    "    datasets[filename] = df_temp.to_numpy()\n",
    "\n",
    "\n",
    "\n",
    "        # grouped_df = df_temp.groupby(df_temp[c_index])\n",
    "\n",
    "        # for key, group in grouped_df:\n",
    "        #     # voltage_normalized = (group[voltage] - min_voltage) / (max_voltage - min_voltage)\n",
    "        #     hi_v = np.trapz(group[voltage])\n",
    "        #     hi_i = np.trapz(group[current])\n",
    "        #     row = pd.DataFrame([{'hi_v': hi_v, 'hi_i': hi_i}])\n",
    "        #     hi = pd.concat([hi, row])\n",
    "        #     print(hi)\n",
    "\n",
    "        # max_index = df_temp[c_index].max()\n",
    "        # df_temp = [df.reset_index(drop=True) for _, df in df.groupby(df_temp[c_index])]\n",
    "        # for index in df_temp:\n",
    "        #     hi_v = np.trapz(index[voltage]) \n",
    "        #     hi_i = np.trapz(index[current]) \n",
    "        #     row = pd.DataFrame([{'hi_v': hi_v, 'hi_i':hi_i}])\n",
    "        #     hi = pd.concat([hi, row])\n",
    "\n",
    "        # df = pd.concat([df, df_temp[0]])"
   ]
  },
  {
   "cell_type": "code",
   "execution_count": null,
   "metadata": {},
   "outputs": [],
   "source": [
    "df_cycle = datasets[:, c_index]\n",
    "df_values = np.delete(datasets, c_index, axis=1)\n",
    "\n",
    "X_values = np.concatenate(list(df_values.values()))\n",
    "X_mean, X_std = X_values.mean(), X_values.std()\n",
    "X_values = (X_values - X_mean) / X_std\n",
    "X_min, X_max = X_values.min(), X_values.max()"
   ]
  },
  {
   "cell_type": "code",
   "execution_count": null,
   "metadata": {},
   "outputs": [],
   "source": [
    "ds_normalized = np.column_stack((X_values, c_index))"
   ]
  },
  {
   "cell_type": "code",
   "execution_count": null,
   "metadata": {},
   "outputs": [],
   "source": [
    "datasets = df_temp.to_numpy()\n",
    "datasets"
   ]
  },
  {
   "cell_type": "code",
   "execution_count": null,
   "metadata": {},
   "outputs": [],
   "source": [
    "hi.to_csv(f'{cleaned}/hi.csv')"
   ]
  },
  {
   "cell_type": "code",
   "execution_count": null,
   "metadata": {},
   "outputs": [],
   "source": [
    "for key, value in grouped_df:\n",
    "    print(value) "
   ]
  },
  {
   "cell_type": "code",
   "execution_count": null,
   "metadata": {},
   "outputs": [],
   "source": [
    "print(df)\n",
    "df.to_csv(f'{cleaned}/cleaned.csv')\n"
   ]
  }
 ],
 "metadata": {
  "kernelspec": {
   "display_name": "Python 3",
   "language": "python",
   "name": "python3"
  },
  "language_info": {
   "codemirror_mode": {
    "name": "ipython",
    "version": 3
   },
   "file_extension": ".py",
   "mimetype": "text/x-python",
   "name": "python",
   "nbconvert_exporter": "python",
   "pygments_lexer": "ipython3",
   "version": "3.9.12"
  }
 },
 "nbformat": 4,
 "nbformat_minor": 2
}

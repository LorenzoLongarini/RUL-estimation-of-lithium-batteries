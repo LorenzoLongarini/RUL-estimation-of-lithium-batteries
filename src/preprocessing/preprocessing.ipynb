{
 "cells": [
  {
   "cell_type": "code",
   "execution_count": 3,
   "metadata": {},
   "outputs": [],
   "source": [
    "%%capture\n",
    "%cd .."
   ]
  },
  {
   "cell_type": "code",
   "execution_count": 4,
   "metadata": {},
   "outputs": [
    {
     "ename": "ModuleNotFoundError",
     "evalue": "No module named 'utils'",
     "output_type": "error",
     "traceback": [
      "\u001b[1;31m---------------------------------------------------------------------------\u001b[0m",
      "\u001b[1;31mModuleNotFoundError\u001b[0m                       Traceback (most recent call last)",
      "Cell \u001b[1;32mIn[4], line 6\u001b[0m\n\u001b[0;32m      4\u001b[0m \u001b[38;5;28;01mimport\u001b[39;00m \u001b[38;5;21;01mnumpy\u001b[39;00m \u001b[38;5;28;01mas\u001b[39;00m \u001b[38;5;21;01mnp\u001b[39;00m\n\u001b[0;32m      5\u001b[0m \u001b[38;5;28;01mimport\u001b[39;00m \u001b[38;5;21;01mmatplotlib\u001b[39;00m\u001b[38;5;21;01m.\u001b[39;00m\u001b[38;5;21;01mpyplot\u001b[39;00m \u001b[38;5;28;01mas\u001b[39;00m \u001b[38;5;21;01mplt\u001b[39;00m\n\u001b[1;32m----> 6\u001b[0m \u001b[38;5;28;01mfrom\u001b[39;00m \u001b[38;5;21;01mutils\u001b[39;00m \u001b[38;5;28;01mimport\u001b[39;00m constants \u001b[38;5;28;01mas\u001b[39;00m cs\n",
      "\u001b[1;31mModuleNotFoundError\u001b[0m: No module named 'utils'"
     ]
    }
   ],
   "source": [
    "# Imports\n",
    "import pandas as pd\n",
    "import os\n",
    "import numpy as np\n",
    "import matplotlib.pyplot as plt\n",
    "from utils.constants import white_list"
   ]
  },
  {
   "cell_type": "code",
   "execution_count": null,
   "metadata": {},
   "outputs": [],
   "source": [
    "# Some constants values\n",
    "data_dir: str = \"dataset/CS2_38\"\n",
    "cleaned = \"dataset/cleaned\"\n",
    "df = pd.DataFrame()\n",
    "hi = pd.DataFrame()\n",
    "\n",
    "current = 'Current(A)'\n",
    "voltage = 'Voltage(V)'\n",
    "c_index = 'Cycle_Index'\n",
    "# time = 'Test_Time(s)'\n",
    "t0_voltage = 3.8\n",
    "t1_voltage = 4.1999\n",
    "\n",
    "datasets = {}"
   ]
  },
  {
   "cell_type": "code",
   "execution_count": null,
   "metadata": {},
   "outputs": [],
   "source": [
    "CS2_38_cleaned = pd.DataFrame()\n",
    "\n",
    "for filename in os.listdir(data_dir):\n",
    "    xls_file = pd.ExcelFile(os.path.join(data_dir, filename))\n",
    "    sheet_fnames = [sheet for sheet in xls_file.sheet_names if sheet.startswith('Channel')]\n",
    "\n",
    "    # print(filename)\n",
    "    for sheet_fname in sheet_fnames:\n",
    "        df_temp = pd.read_excel(os.path.join(data_dir, filename), sheet_name=sheet_fname)\n",
    "        df_temp = df_temp[white_list]\n",
    "        # Trovare il massimo valore di Cycle_Index in CS2_38_cleaned\n",
    "        max_combined_cycle_index = CS2_38_cleaned['Cycle_Index'].max() if not CS2_38_cleaned.empty else 0\n",
    "        print(max_combined_cycle_index)\n",
    "        # Aggiornare i valori di Cycle_Index nel DataFrame corrente\n",
    "        df_temp['Cycle_Index'] += max_combined_cycle_index\n",
    "        print(df_temp['Cycle_Index'])\n",
    "        # Aggiungere il DataFrame corrente a CS2_38_cleaned\n",
    "        CS2_38_cleaned = pd.concat([CS2_38_cleaned, df_temp], ignore_index=True)"
   ]
  },
  {
   "cell_type": "code",
   "execution_count": null,
   "metadata": {},
   "outputs": [],
   "source": [
    "CS2_38_cleaned.to_csv(os.path.join(cleaned, 'CS2_38_cleaned.csv'), index=False)"
   ]
  },
  {
   "cell_type": "code",
   "execution_count": null,
   "metadata": {},
   "outputs": [],
   "source": [
    "path: str = 'dataset/cleaned/CS2_38_cleaned.csv'\n",
    "# Carica il DataFrame dal tuo file CSV\n",
    "df_concat = pd.read_csv(path)\n",
    "df_concat['Index'] = df_concat.index\n",
    "max_voltage = df_concat[voltage].max()\n",
    "min_voltage = df_concat[voltage].min()\n",
    "\n",
    "# mean_voltage = df_concat[voltage].mean()\n",
    "# mean_voltage = (mean_voltage - min_voltage) / (max_voltage - min_voltage)\n",
    "# std_voltage = df_concat[voltage].std()\n",
    "# std_voltage = (std_voltage - min_voltage) / (max_voltage - min_voltage)\n"
   ]
  },
  {
   "cell_type": "code",
   "execution_count": null,
   "metadata": {},
   "outputs": [],
   "source": [
    "df_concat"
   ]
  },
  {
   "cell_type": "code",
   "execution_count": null,
   "metadata": {},
   "outputs": [],
   "source": [
    "print(max_voltage, min_voltage)"
   ]
  },
  {
   "cell_type": "code",
   "execution_count": null,
   "metadata": {},
   "outputs": [],
   "source": [
    "\n",
    "for key, group in df_concat.groupby(c_index):\n",
    "    t0_index = (group[voltage] >= t0_voltage).idxmax()\n",
    "    t1_index = (group[voltage] >= t1_voltage).idxmax()\n",
    "    group[voltage] = (group[voltage] - min_voltage) / (max_voltage - min_voltage)\n",
    "    \n",
    "    mean_voltage = group[voltage].mean()\n",
    "    std_voltage = group[voltage].std()\n",
    "    group[voltage] = (group[voltage]- mean_voltage) / std_voltage\n",
    "    selected_rows = group[(group['Index'] >= t0_index) & (group['Index'] <= t1_index)]\n",
    "    hi_v = selected_rows[voltage].sum()\n",
    "    # hi_v = np.trapz(selected_rows[voltage])\n",
    "    cycle = group[c_index].iloc[0]\n",
    "    # for i in range(t0_index, t1_index):\n",
    "    #     hi_v = \n",
    "    # hi_v = group[voltage].iloc[t0_index:t1_index + 1].sum()\n",
    "\n",
    "    print(cycle)\n",
    "    # group[voltage].to_csv(f'dataset/cycles/{key}.csv')\n",
    "    row = pd.DataFrame([{'hi_v': hi_v, 'cycle': cycle}])\n",
    "    hi = pd.concat([hi, row])"
   ]
  },
  {
   "cell_type": "code",
   "execution_count": null,
   "metadata": {},
   "outputs": [],
   "source": [
    "print(hi)"
   ]
  },
  {
   "cell_type": "code",
   "execution_count": null,
   "metadata": {},
   "outputs": [],
   "source": [
    "hi.to_csv(f'{cleaned}/hi.csv')\n"
   ]
  },
  {
   "cell_type": "code",
   "execution_count": null,
   "metadata": {},
   "outputs": [],
   "source": [
    "plt.plot( hi[\"cycle\"], hi[\"hi_v\"])\n",
    "plt.show()\n"
   ]
  },
  {
   "cell_type": "code",
   "execution_count": null,
   "metadata": {},
   "outputs": [],
   "source": [
    "for filename in os.listdir(data_dir):\n",
    "    xls_file = pd.ExcelFile(f'{data_dir}/{filename}')\n",
    "    sheet_fnames = [sheet for sheet in xls_file.sheet_names if sheet.startswith('Channel')]\n",
    "    for sheet_fname in sheet_fnames:\n",
    "        df_temp = pd.read_excel(f'{data_dir}/{filename}', sheet_name=sheet_fname)\n",
    "        df_temp = df_temp[white_list]\n",
    "        max_voltage = df_temp[voltage].max()\n",
    "        min_voltage = df_temp[voltage].min()\n",
    "        \n",
    "        # df_temp = df_temp[(df_temp[voltage] >= min_voltage) & (df_temp[voltage] <= max_voltage)]\n",
    "        # df_temp = df_temp[df_temp[voltage].diff().gt(0)]\n",
    "        \n",
    "        \n",
    "        # mean_voltage = df_temp[voltage].mean()\n",
    "        # std_voltage = df_temp[voltage].std()\n",
    "\n",
    "        #Standardization\n",
    "        # df_temp[voltage] = (df_temp[voltage] - mean_voltage) / std_voltage\n",
    "\n",
    "        \n",
    "\n",
    "        grouped_df = df_temp.groupby(df_temp[c_index])\n",
    "\n",
    "        for key, group in grouped_df:\n",
    "            t0_index = (group[voltage] >= t0_voltage).idxmax()\n",
    "            t1_index = (group[voltage] >= t1_voltage).idxmax()\n",
    "            #Normalization\n",
    "            group[voltage] = (group[voltage] - min_voltage) / (max_voltage - min_voltage)\n",
    "            # print( group[voltage] )\n",
    "            # voltage_normalized = (group[voltage] - min_voltage) / (max_voltage - min_voltage)\n",
    "            # hi_v = np.trapz(group[voltage])\n",
    "            # hi_v = group[voltage].sum()\n",
    "            hi_v = np.trapz(group[voltage].iloc[t0_index:t1_index + 1])\n",
    "            # hi_v = group[voltage].iloc[t0_index:t1_index + 1].sum()\n",
    "            # hi_v = 0\n",
    "            # for i in range(t0_index, t1_index-1):\n",
    "            #     hi_v += group[voltage].iloc[i]\n",
    "            row = pd.DataFrame([{'hi_v': hi_v}])\n",
    "            hi = pd.concat([hi, row])\n",
    "            print(\"ale puzza:\",max_voltage, min_voltage)\n"
   ]
  },
  {
   "cell_type": "code",
   "execution_count": null,
   "metadata": {},
   "outputs": [],
   "source": [
    "print(hi)"
   ]
  },
  {
   "cell_type": "code",
   "execution_count": null,
   "metadata": {},
   "outputs": [],
   "source": [
    "plt.plot(hi_v)"
   ]
  },
  {
   "cell_type": "code",
   "execution_count": null,
   "metadata": {},
   "outputs": [],
   "source": [
    "hi.to_csv(f'{cleaned}/hi.csv')"
   ]
  },
  {
   "cell_type": "code",
   "execution_count": null,
   "metadata": {},
   "outputs": [],
   "source": [
    "# #Cycle all excel files in the same folder\n",
    "# for filename in os.listdir(data_dir):\n",
    "#     xls_file = pd.ExcelFile(f'{data_dir}/{filename}')\n",
    "#     sheet_fnames = [sheet for sheet in xls_file.sheet_names if sheet.startswith('Channel')]\n",
    "    \n",
    "#     df_list = []  # List to accumulate DataFrames for each sheet\n",
    "    \n",
    "#     for sheet_fname in sheet_fnames:\n",
    "#         df_temp = pd.read_excel(f'{data_dir}/{filename}', sheet_name=sheet_fname)\n",
    "#         df_temp = df_temp[[voltage, current, c_index  ]]\n",
    "#         df_temp = df_temp[(df_temp[voltage] >= min_voltage) & (df_temp[voltage] <= max_voltage)]\n",
    "#         df_temp = df_temp[df_temp[voltage].diff().gt(0)]\n",
    "        \n",
    "#         df_list.append(df_temp)  # Append the DataFrame to the list\n",
    "    \n",
    "#     datasets[filename] = pd.concat(df_list).to_numpy()\n",
    "\n",
    "# # Now, concatenate the values from all datasets\n",
    "# df_cycle = np.concatenate([dataset[:, 0] for dataset in datasets.values()])\n",
    "# df_values = np.concatenate([np.delete(dataset, 0, axis=1) for dataset in datasets.values()])\n",
    "\n",
    "# # Calculate mean and std\n",
    "# X_mean, X_std = df_values.mean(0), df_values.std(0)\n",
    "\n",
    "# # Normalize values\n",
    "# df_values = (df_values - X_mean) / X_std\n",
    "\n",
    "# # Min and max after normalization\n",
    "# X_min, X_max = df_values.min(), df_values.max()"
   ]
  }
 ],
 "metadata": {
  "kernelspec": {
   "display_name": "Python 3",
   "language": "python",
   "name": "python3"
  },
  "language_info": {
   "codemirror_mode": {
    "name": "ipython",
    "version": 3
   },
   "file_extension": ".py",
   "mimetype": "text/x-python",
   "name": "python",
   "nbconvert_exporter": "python",
   "pygments_lexer": "ipython3",
   "version": "3.9.12"
  }
 },
 "nbformat": 4,
 "nbformat_minor": 2
}

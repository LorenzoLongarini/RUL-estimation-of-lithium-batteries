{
 "cells": [
  {
   "cell_type": "code",
   "execution_count": 40,
   "metadata": {},
   "outputs": [],
   "source": [
    "# Import data\n",
    "\n",
    "import pandas as pd\n",
    "import os\n",
    "import numpy as np"
   ]
  },
  {
   "cell_type": "code",
   "execution_count": 47,
   "metadata": {},
   "outputs": [],
   "source": [
    "# Specify dataset directory\n",
    "\n",
    "data_dir: str = '../dataset/CS2_36-38'\n",
    "cleaned = '../dataset/cleaned'\n",
    "df = pd.DataFrame()\n",
    "\n",
    "current = 'Current(A)'\n",
    "voltage = 'Voltage(V)'\n",
    "min_voltage = 3.8\n",
    "max_voltage = 4.2"
   ]
  },
  {
   "cell_type": "code",
   "execution_count": 49,
   "metadata": {},
   "outputs": [],
   "source": [
    "for filename in os.listdir(data_dir):\n",
    "    xls_file = pd.ExcelFile(f'{data_dir}/{filename}')\n",
    "    sheet_fnames = [sheet for sheet in xls_file.sheet_names if sheet.startswith('Channel')]\n",
    "    for sheet_fname in sheet_fnames:\n",
    "        df_temp = pd.read_excel(f'{data_dir}/{filename}', sheet_name=sheet_fname)\n",
    "        df_temp = df_temp[[current, voltage]]\n",
    "        df_temp = df_temp[(df_temp[voltage] >= min_voltage) & (df_temp[voltage] <= max_voltage)]\n",
    "\n",
    "        df = pd.concat([df, df_temp])"
   ]
  },
  {
   "cell_type": "code",
   "execution_count": 50,
   "metadata": {},
   "outputs": [
    {
     "name": "stdout",
     "output_type": "stream",
     "text": [
      "       Current(A)  Voltage(V)\n",
      "15       0.550153    3.800297\n",
      "16       0.549789    3.802402\n",
      "17       0.549971    3.804508\n",
      "18       0.549971    3.806613\n",
      "19       0.550153    3.808881\n",
      "...           ...         ...\n",
      "14676   -1.099536    3.869796\n",
      "14677   -1.099536    3.856518\n",
      "14678   -1.099536    3.845182\n",
      "14679   -1.099355    3.835143\n",
      "14680   -1.099355    3.826074\n",
      "\n",
      "[391515 rows x 2 columns]\n"
     ]
    }
   ],
   "source": [
    "print(df)\n",
    "df.to_csv(f'{cleaned}/cleaned.csv')\n"
   ]
  },
  {
   "cell_type": "code",
   "execution_count": null,
   "metadata": {},
   "outputs": [],
   "source": [
    "# for i in range(len(df)):\n"
   ]
  }
 ],
 "metadata": {
  "kernelspec": {
   "display_name": "Python 3",
   "language": "python",
   "name": "python3"
  },
  "language_info": {
   "codemirror_mode": {
    "name": "ipython",
    "version": 3
   },
   "file_extension": ".py",
   "mimetype": "text/x-python",
   "name": "python",
   "nbconvert_exporter": "python",
   "pygments_lexer": "ipython3",
   "version": "3.9.12"
  }
 },
 "nbformat": 4,
 "nbformat_minor": 2
}

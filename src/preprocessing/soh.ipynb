{
 "cells": [
  {
   "cell_type": "code",
   "execution_count": null,
   "metadata": {},
   "outputs": [],
   "source": [
    "# Import data\n",
    "\n",
    "import pandas as pd\n",
    "import os\n",
    "import numpy as np\n",
    "import matplotlib.pyplot as plt\n",
    "# from src.utils.constants import white_list"
   ]
  },
  {
   "cell_type": "code",
   "execution_count": null,
   "metadata": {},
   "outputs": [],
   "source": [
    "# Specify dataset directory\n",
    "\n",
    "data_dir: str = '../dataset/CS2_38'\n",
    "cleaned: str = '../dataset/cleaned'\n",
    "df = pd.DataFrame()\n",
    "\n",
    "c_index = 'Cycle_Index'\n",
    "cc = 'Charge_Capacity(Ah)'\n",
    "dcc = 'Discharge_Capacity(Ah)'\n",
    "white_list = [\n",
    "    'Cycle_Index',\n",
    "    'Voltage(V)',\n",
    "    'Current(A)',\n",
    "    'Charge_Capacity(Ah)',\n",
    "    'Discharge_Capacity(Ah)']\n",
    "result_list = []\n"
   ]
  },
  {
   "cell_type": "code",
   "execution_count": null,
   "metadata": {},
   "outputs": [],
   "source": [
    "CS2_38_cleaned = pd.DataFrame()\n",
    "\n",
    "for filename in os.listdir(data_dir):\n",
    "    xls_file = pd.ExcelFile(os.path.join(data_dir, filename))\n",
    "    sheet_fnames = [sheet for sheet in xls_file.sheet_names if sheet.startswith('Channel')]\n",
    "\n",
    "    for sheet_fname in sheet_fnames:\n",
    "        df_temp = pd.read_excel(os.path.join(data_dir, filename), sheet_name=sheet_fname)\n",
    "        df_temp = df_temp[white_list]\n",
    "        # Trovare il massimo valore di Cycle_Index in CS2_38_cleaned\n",
    "        max_combined_cycle_index = CS2_38_cleaned['Cycle_Index'].max() if not CS2_38_cleaned.empty else 0\n",
    "\n",
    "        # Aggiornare i valori di Cycle_Index nel DataFrame corrente\n",
    "        df_temp['Cycle_Index'] += max_combined_cycle_index\n",
    "\n",
    "        # Aggiungere il DataFrame corrente a CS2_38_cleaned\n",
    "        CS2_38_cleaned = pd.concat([CS2_38_cleaned, df_temp], ignore_index=True)"
   ]
  },
  {
   "cell_type": "code",
   "execution_count": null,
   "metadata": {},
   "outputs": [],
   "source": [
    "CS2_38_cleaned.to_csv(os.path.join(cleaned, 'CS2_38_cleaned.csv'), index=False)"
   ]
  },
  {
   "cell_type": "code",
   "execution_count": 51,
   "metadata": {},
   "outputs": [
    {
     "name": "stdout",
     "output_type": "stream",
     "text": [
      "0            1\n",
      "1            1\n",
      "2            1\n",
      "3            1\n",
      "4            1\n",
      "          ... \n",
      "303290    1082\n",
      "303291    1082\n",
      "303292    1082\n",
      "303293    1082\n",
      "303294    1082\n",
      "Name: Cycle_Index, Length: 303295, dtype: int64\n",
      "0         3.590298\n",
      "1         3.590460\n",
      "2         3.590622\n",
      "3         3.590784\n",
      "4         3.590946\n",
      "            ...   \n",
      "303290    3.869796\n",
      "303291    3.856518\n",
      "303292    3.845182\n",
      "303293    3.835143\n",
      "303294    3.826074\n",
      "Name: Voltage(V), Length: 303295, dtype: float64\n",
      "0         0.000000\n",
      "1         0.000000\n",
      "2         0.000000\n",
      "3         0.000000\n",
      "4         0.000000\n",
      "            ...   \n",
      "303290   -1.099536\n",
      "303291   -1.099536\n",
      "303292   -1.099536\n",
      "303293   -1.099355\n",
      "303294   -1.099355\n",
      "Name: Current(A), Length: 303295, dtype: float64\n",
      "0          0.000000\n",
      "1          0.000000\n",
      "2          0.000000\n",
      "3          0.000000\n",
      "4          0.000000\n",
      "            ...    \n",
      "303290    45.291128\n",
      "303291    45.291128\n",
      "303292    45.291128\n",
      "303293    45.291128\n",
      "303294    45.291128\n",
      "Name: Charge_Capacity(Ah), Length: 303295, dtype: float64\n",
      "0          0.000000\n",
      "1          0.000000\n",
      "2          0.000000\n",
      "3          0.000000\n",
      "4          0.000000\n",
      "            ...    \n",
      "303290    44.252739\n",
      "303291    44.261906\n",
      "303292    44.271072\n",
      "303293    44.280238\n",
      "303294    44.289405\n",
      "Name: Discharge_Capacity(Ah), Length: 303295, dtype: float64\n"
     ]
    }
   ],
   "source": [
    "path: str = '../dataset/cleaned/CS2_38_cleaned.csv'\n",
    "# Carica il DataFrame dal tuo file CSV\n",
    "df = pd.read_csv(path)\n",
    "curr_index = 1\n",
    "actual_cap = 0.0\n",
    "nominal_cap = 0.0\n",
    "\n",
    "df_soh = pd.DataFrame()\n",
    "for i in df: \n",
    "    print(df[i])    "
   ]
  },
  {
   "cell_type": "code",
   "execution_count": 48,
   "metadata": {},
   "outputs": [
    {
     "ename": "IndexError",
     "evalue": "single positional indexer is out-of-bounds",
     "output_type": "error",
     "traceback": [
      "\u001b[1;31m---------------------------------------------------------------------------\u001b[0m",
      "\u001b[1;31mIndexError\u001b[0m                                Traceback (most recent call last)",
      "Cell \u001b[1;32mIn[48], line 11\u001b[0m\n\u001b[0;32m      8\u001b[0m df_soh \u001b[38;5;241m=\u001b[39m pd\u001b[38;5;241m.\u001b[39mDataFrame()\n\u001b[0;32m     10\u001b[0m \u001b[38;5;28;01mfor\u001b[39;00m index, group \u001b[38;5;129;01min\u001b[39;00m df\u001b[38;5;241m.\u001b[39mgroupby(\u001b[38;5;124m'\u001b[39m\u001b[38;5;124mCycle_Index\u001b[39m\u001b[38;5;124m'\u001b[39m):\n\u001b[1;32m---> 11\u001b[0m     actual_cap \u001b[38;5;241m+\u001b[39m\u001b[38;5;241m=\u001b[39m \u001b[43mgroup\u001b[49m\u001b[43m[\u001b[49m\u001b[38;5;124;43m'\u001b[39;49m\u001b[38;5;124;43mDischarge_Capacity(Ah)\u001b[39;49m\u001b[38;5;124;43m'\u001b[39;49m\u001b[43m]\u001b[49m\u001b[38;5;241;43m.\u001b[39;49m\u001b[43miloc\u001b[49m\u001b[43m[\u001b[49m\u001b[43mindex\u001b[49m\u001b[43m]\u001b[49m\n\u001b[0;32m     12\u001b[0m     nominal_cap \u001b[38;5;241m=\u001b[39m \u001b[38;5;28mmax\u001b[39m(nominal_cap, group[\u001b[38;5;124m'\u001b[39m\u001b[38;5;124mCharge_Capacity(Ah)\u001b[39m\u001b[38;5;124m'\u001b[39m]\u001b[38;5;241m.\u001b[39mmax())\n\u001b[0;32m     14\u001b[0m     \u001b[38;5;66;03m# Aggiungi l'ultima riga al DataFrame df_soh\u001b[39;00m\n",
      "File \u001b[1;32mc:\\Python39\\lib\\site-packages\\pandas\\core\\indexing.py:1153\u001b[0m, in \u001b[0;36m_LocationIndexer.__getitem__\u001b[1;34m(self, key)\u001b[0m\n\u001b[0;32m   1150\u001b[0m axis \u001b[38;5;241m=\u001b[39m \u001b[38;5;28mself\u001b[39m\u001b[38;5;241m.\u001b[39maxis \u001b[38;5;129;01mor\u001b[39;00m \u001b[38;5;241m0\u001b[39m\n\u001b[0;32m   1152\u001b[0m maybe_callable \u001b[38;5;241m=\u001b[39m com\u001b[38;5;241m.\u001b[39mapply_if_callable(key, \u001b[38;5;28mself\u001b[39m\u001b[38;5;241m.\u001b[39mobj)\n\u001b[1;32m-> 1153\u001b[0m \u001b[38;5;28;01mreturn\u001b[39;00m \u001b[38;5;28;43mself\u001b[39;49m\u001b[38;5;241;43m.\u001b[39;49m\u001b[43m_getitem_axis\u001b[49m\u001b[43m(\u001b[49m\u001b[43mmaybe_callable\u001b[49m\u001b[43m,\u001b[49m\u001b[43m \u001b[49m\u001b[43maxis\u001b[49m\u001b[38;5;241;43m=\u001b[39;49m\u001b[43maxis\u001b[49m\u001b[43m)\u001b[49m\n",
      "File \u001b[1;32mc:\\Python39\\lib\\site-packages\\pandas\\core\\indexing.py:1714\u001b[0m, in \u001b[0;36m_iLocIndexer._getitem_axis\u001b[1;34m(self, key, axis)\u001b[0m\n\u001b[0;32m   1711\u001b[0m     \u001b[38;5;28;01mraise\u001b[39;00m \u001b[38;5;167;01mTypeError\u001b[39;00m(\u001b[38;5;124m\"\u001b[39m\u001b[38;5;124mCannot index by location index with a non-integer key\u001b[39m\u001b[38;5;124m\"\u001b[39m)\n\u001b[0;32m   1713\u001b[0m \u001b[38;5;66;03m# validate the location\u001b[39;00m\n\u001b[1;32m-> 1714\u001b[0m \u001b[38;5;28;43mself\u001b[39;49m\u001b[38;5;241;43m.\u001b[39;49m\u001b[43m_validate_integer\u001b[49m\u001b[43m(\u001b[49m\u001b[43mkey\u001b[49m\u001b[43m,\u001b[49m\u001b[43m \u001b[49m\u001b[43maxis\u001b[49m\u001b[43m)\u001b[49m\n\u001b[0;32m   1716\u001b[0m \u001b[38;5;28;01mreturn\u001b[39;00m \u001b[38;5;28mself\u001b[39m\u001b[38;5;241m.\u001b[39mobj\u001b[38;5;241m.\u001b[39m_ixs(key, axis\u001b[38;5;241m=\u001b[39maxis)\n",
      "File \u001b[1;32mc:\\Python39\\lib\\site-packages\\pandas\\core\\indexing.py:1647\u001b[0m, in \u001b[0;36m_iLocIndexer._validate_integer\u001b[1;34m(self, key, axis)\u001b[0m\n\u001b[0;32m   1645\u001b[0m len_axis \u001b[38;5;241m=\u001b[39m \u001b[38;5;28mlen\u001b[39m(\u001b[38;5;28mself\u001b[39m\u001b[38;5;241m.\u001b[39mobj\u001b[38;5;241m.\u001b[39m_get_axis(axis))\n\u001b[0;32m   1646\u001b[0m \u001b[38;5;28;01mif\u001b[39;00m key \u001b[38;5;241m>\u001b[39m\u001b[38;5;241m=\u001b[39m len_axis \u001b[38;5;129;01mor\u001b[39;00m key \u001b[38;5;241m<\u001b[39m \u001b[38;5;241m-\u001b[39mlen_axis:\n\u001b[1;32m-> 1647\u001b[0m     \u001b[38;5;28;01mraise\u001b[39;00m \u001b[38;5;167;01mIndexError\u001b[39;00m(\u001b[38;5;124m\"\u001b[39m\u001b[38;5;124msingle positional indexer is out-of-bounds\u001b[39m\u001b[38;5;124m\"\u001b[39m)\n",
      "\u001b[1;31mIndexError\u001b[0m: single positional indexer is out-of-bounds"
     ]
    }
   ],
   "source": [
    "path: str = '../dataset/cleaned/CS2_38_cleaned.csv'\n",
    "# Carica il DataFrame dal tuo file CSV\n",
    "df = pd.read_csv(path)\n",
    "curr_index = 1\n",
    "actual_cap = 0.0\n",
    "nominal_cap = 0.0\n",
    "\n",
    "df_soh = pd.DataFrame()\n",
    "\n",
    "for index, group in df.groupby('Cycle_Index'):\n",
    "    actual_cap += group['Discharge_Capacity(Ah)'].iloc[index]\n",
    "    nominal_cap = max(nominal_cap, group['Charge_Capacity(Ah)'].max())\n",
    "\n",
    "    # Aggiungi l'ultima riga al DataFrame df_soh\n",
    "    if nominal_cap == 0:\n",
    "        soh = 0  # Assegna un valore predefinito in caso di divisione per zero\n",
    "    else:\n",
    "        soh = (actual_cap / nominal_cap) * 100\n",
    "    row = pd.DataFrame([{'Cycle_Index': curr_index, 'actual_cap': actual_cap, 'nominal_cap': nominal_cap, 'soh': soh}])\n",
    "    df_soh = pd.concat([df_soh, row])\n",
    "\n",
    "    df_soh.reset_index(drop=True, inplace=True)\n"
   ]
  },
  {
   "cell_type": "code",
   "execution_count": null,
   "metadata": {},
   "outputs": [],
   "source": [
    "df_soh.to_csv(os.path.join(cleaned, 'df_soh.csv'), index=False)"
   ]
  },
  {
   "cell_type": "code",
   "execution_count": null,
   "metadata": {},
   "outputs": [],
   "source": [
    "path: str = '../dataset/cleaned/CS2_38_cleaned.csv'\n",
    "# Carica il DataFrame dal tuo file CSV\n",
    "df = pd.read_csv(path)\n",
    "curr_index = 1\n",
    "actual_cap = 0.0\n",
    "nominal_cap = 0.0\n",
    "df_soh = pd.DataFrame()\n",
    "soh = 0.0\n",
    "\n",
    "df = df.groupby(df_temp[c_index])\n",
    "for key, value in df:\n",
    "    if value['Cycle_Index'] == curr_index:\n",
    "        actual_cap += value['Discharge_Capacity(Ah)']\n",
    "        if value['Charge_Capacity(Ah)'] > nominal_cap:\n",
    "            nominal_cap = value['Charge_Capacity(Ah)']\n",
    "    else:\n",
    "        soh = (actual_cap / nominal_cap) * 100\n",
    "        row = pd.DataFrame([{'actual_cap': actual_cap, 'nominal_cap': nominal_cap, 'soh':soh}])\n",
    "        df_soh = pd.concat([df_soh, row])\n",
    "        curr_index += 1\n",
    "        actual_cap = 0.0\n",
    "        nominal_cap = 0.0\n",
    "        soh = 0.0\n",
    "\n"
   ]
  },
  {
   "cell_type": "code",
   "execution_count": null,
   "metadata": {},
   "outputs": [],
   "source": [
    "plt.plot(df['Cycle_Index'], df['Nominal_Capacity'], label='Nominal Capacity')\n",
    "plt.plot(df['Cycle_Index'], df['Actual_Capacity'], label='Actual Capacity')\n",
    "plt.xlabel('Cycle Index')\n",
    "plt.ylabel('Capacity (SOH Sum)')\n",
    "plt.legend()\n",
    "plt.show()"
   ]
  }
 ],
 "metadata": {
  "kernelspec": {
   "display_name": "Python 3",
   "language": "python",
   "name": "python3"
  },
  "language_info": {
   "codemirror_mode": {
    "name": "ipython",
    "version": 3
   },
   "file_extension": ".py",
   "mimetype": "text/x-python",
   "name": "python",
   "nbconvert_exporter": "python",
   "pygments_lexer": "ipython3",
   "version": "3.9.12"
  }
 },
 "nbformat": 4,
 "nbformat_minor": 2
}

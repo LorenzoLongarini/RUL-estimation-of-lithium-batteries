{
 "cells": [
  {
   "cell_type": "code",
   "execution_count": null,
   "metadata": {},
   "outputs": [],
   "source": [
    "%%capture\n",
    "%cd .."
   ]
  },
  {
   "cell_type": "code",
   "execution_count": null,
   "metadata": {},
   "outputs": [],
   "source": [
    "# Import data\n",
    "\n",
    "import pandas as pd\n",
    "import os\n",
    "import numpy as np\n",
    "import matplotlib.pyplot as plt\n",
    "from utils.constants import white_list"
   ]
  },
  {
   "cell_type": "code",
   "execution_count": null,
   "metadata": {},
   "outputs": [],
   "source": [
    "# Specify dataset directory\n",
    "\n",
    "data_dir: str = 'dataset/CS2_38'\n",
    "cleaned: str = 'dataset/cleaned'\n",
    "df = pd.DataFrame()\n",
    "c_index = 'Cycle_Index'\n",
    "cc = 'Charge_Capacity(Ah)'\n",
    "dcc = 'Discharge_Capacity(Ah)'\n",
    "\n",
    "result_list = []\n"
   ]
  },
  {
   "cell_type": "code",
   "execution_count": null,
   "metadata": {},
   "outputs": [],
   "source": [
    "CS2_38_cleaned = pd.DataFrame()\n",
    "\n",
    "for filename in os.listdir(data_dir):\n",
    "    xls_file = pd.ExcelFile(os.path.join(data_dir, filename))\n",
    "    sheet_fnames = [sheet for sheet in xls_file.sheet_names if sheet.startswith('Channel')]\n",
    "\n",
    "    # print(filename)\n",
    "    for sheet_fname in sheet_fnames:\n",
    "        df_temp = pd.read_excel(os.path.join(data_dir, filename), sheet_name=sheet_fname)\n",
    "        df_temp = df_temp[white_list]\n",
    "        # Trovare il massimo valore di Cycle_Index in CS2_38_cleaned\n",
    "        max_combined_cycle_index = CS2_38_cleaned['Cycle_Index'].max() if not CS2_38_cleaned.empty else 0\n",
    "        print(max_combined_cycle_index)\n",
    "        # Aggiornare i valori di Cycle_Index nel DataFrame corrente\n",
    "        df_temp['Cycle_Index'] += max_combined_cycle_index\n",
    "        print(df_temp['Cycle_Index'])\n",
    "        # Aggiungere il DataFrame corrente a CS2_38_cleaned\n",
    "        CS2_38_cleaned = pd.concat([CS2_38_cleaned, df_temp], ignore_index=True)"
   ]
  },
  {
   "cell_type": "code",
   "execution_count": null,
   "metadata": {},
   "outputs": [],
   "source": [
    "CS2_38_cleaned.to_csv(os.path.join(cleaned, 'CS2_38_cleaned.csv'), index=False)"
   ]
  },
  {
   "cell_type": "code",
   "execution_count": null,
   "metadata": {},
   "outputs": [],
   "source": [
    "path: str = 'dataset/cleaned/CS2_38_cleaned.csv'\n",
    "# Carica il DataFrame dal tuo file CSV\n",
    "df = pd.read_csv(path)\n",
    "curr_index = 1\n",
    "actual_cap = 0.0\n",
    "nominal_cap = 0.0\n",
    "\n",
    "df_soh = pd.DataFrame()\n",
    "values = [value['Charge_Capacity(Ah)'].max() for key, value in df.groupby('Cycle_Index')]\n",
    "perc = [i / 1.35 * 100 for i in values]\n",
    "\n",
    "plt.plot(perc)"
   ]
  },
  {
   "cell_type": "code",
   "execution_count": null,
   "metadata": {},
   "outputs": [],
   "source": [
    "for key, value in df.groupby('Cycle_Index'):\n",
    "    print(key, value)"
   ]
  },
  {
   "cell_type": "code",
   "execution_count": null,
   "metadata": {},
   "outputs": [],
   "source": [
    "path: str = '../dataset/cleaned/CS2_38_cleaned.csv'\n",
    "# Carica il DataFrame dal tuo file CSV\n",
    "df = pd.read_csv(path)\n",
    "curr_index = 1\n",
    "actual_cap = 0.0\n",
    "nominal_cap = 0.0\n",
    "\n",
    "df_soh = pd.DataFrame()\n",
    "\n",
    "for index, group in df.groupby('Cycle_Index'):\n",
    "    actual_cap += group['Discharge_Capacity(Ah)'].iloc[index]\n",
    "    nominal_cap = max(nominal_cap, group['Charge_Capacity(Ah)'].max())\n",
    "\n",
    "    # Aggiungi l'ultima riga al DataFrame df_soh\n",
    "    if nominal_cap == 0:\n",
    "        soh = 0  # Assegna un valore predefinito in caso di divisione per zero\n",
    "    else:\n",
    "        soh = (actual_cap / nominal_cap) * 100\n",
    "    row = pd.DataFrame([{'Cycle_Index': curr_index, 'actual_cap': actual_cap, 'nominal_cap': nominal_cap, 'soh': soh}])\n",
    "    df_soh = pd.concat([df_soh, row])\n",
    "\n",
    "    df_soh.reset_index(drop=True, inplace=True)\n"
   ]
  },
  {
   "cell_type": "code",
   "execution_count": null,
   "metadata": {},
   "outputs": [],
   "source": [
    "df_soh.to_csv(os.path.join(cleaned, 'df_soh.csv'), index=False)"
   ]
  },
  {
   "cell_type": "code",
   "execution_count": null,
   "metadata": {},
   "outputs": [],
   "source": [
    "path: str = '../dataset/cleaned/CS2_38_cleaned.csv'\n",
    "# Carica il DataFrame dal tuo file CSV\n",
    "df = pd.read_csv(path)\n",
    "curr_index = 1\n",
    "actual_cap = 0.0\n",
    "nominal_cap = 0.0\n",
    "df_soh = pd.DataFrame()\n",
    "soh = 0.0\n",
    "\n",
    "df = df.groupby(df_temp[c_index])\n",
    "for key, value in df:\n",
    "    if value['Cycle_Index'] == curr_index:\n",
    "        actual_cap += value['Discharge_Capacity(Ah)']\n",
    "        if value['Charge_Capacity(Ah)'] > nominal_cap:\n",
    "            nominal_cap = value['Charge_Capacity(Ah)']\n",
    "    else:\n",
    "        soh = (actual_cap / nominal_cap) * 100\n",
    "        row = pd.DataFrame([{'actual_cap': actual_cap, 'nominal_cap': nominal_cap, 'soh':soh}])\n",
    "        df_soh = pd.concat([df_soh, row])\n",
    "        curr_index += 1\n",
    "        actual_cap = 0.0\n",
    "        nominal_cap = 0.0\n",
    "        soh = 0.0\n",
    "\n"
   ]
  },
  {
   "cell_type": "code",
   "execution_count": null,
   "metadata": {},
   "outputs": [],
   "source": [
    "plt.plot(df['Cycle_Index'], df['Nominal_Capacity'], label='Nominal Capacity')\n",
    "plt.plot(df['Cycle_Index'], df['Actual_Capacity'], label='Actual Capacity')\n",
    "plt.xlabel('Cycle Index')\n",
    "plt.ylabel('Capacity (SOH Sum)')\n",
    "plt.legend()\n",
    "plt.show()"
   ]
  }
 ],
 "metadata": {
  "kernelspec": {
   "display_name": "Python 3",
   "language": "python",
   "name": "python3"
  },
  "language_info": {
   "codemirror_mode": {
    "name": "ipython",
    "version": 3
   },
   "file_extension": ".py",
   "mimetype": "text/x-python",
   "name": "python",
   "nbconvert_exporter": "python",
   "pygments_lexer": "ipython3",
   "version": "3.9.12"
  }
 },
 "nbformat": 4,
 "nbformat_minor": 2
}

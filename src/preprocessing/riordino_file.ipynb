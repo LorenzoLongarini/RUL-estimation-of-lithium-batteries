{
 "cells": [
  {
   "cell_type": "code",
   "execution_count": null,
   "metadata": {},
   "outputs": [],
   "source": [
    "import os\n",
    "import re\n",
    "from datetime import datetime\n",
    "\n",
    "def rename_and_move_files(directory_path):\n",
    "    # Creare la cartella \"ordered\" se non esiste\n",
    "    ordered_directory = os.path.join(directory_path, 'ordered')\n",
    "    if not os.path.exists(ordered_directory):\n",
    "        os.makedirs(ordered_directory)\n",
    "\n",
    "    # Ottenere la lista dei file nella directory specificata\n",
    "    files = [f for f in os.listdir(directory_path) if os.path.isfile(os.path.join(directory_path, f))]\n",
    "\n",
    "    for filename in files:\n",
    "        # Verificare che il file abbia il formato CS2_xx_mm_dd_yy\n",
    "        match = re.match(r'CS2_(\\d{2})_(\\d{2})_(\\d{2})_(\\d{2})\\.xlsx', filename)\n",
    "        if match:\n",
    "            # Estrarre le parti della data dal nome del file\n",
    "            xx, mm, dd, yy = match.groups()\n",
    "\n",
    "            # Creare la nuova data nel formato CS2_xx_yy_mm_dd\n",
    "            new_filename = f'CS2_{xx}_{yy}_{mm}_{dd}.xlsx'\n",
    "\n",
    "            # Costruire i percorsi completi dei file originali e rinominati\n",
    "            old_filepath = os.path.join(directory_path, filename)\n",
    "            new_filepath = os.path.join(ordered_directory, new_filename)\n",
    "\n",
    "            # Verificare se il file con il nuovo nome esiste già\n",
    "            if not os.path.exists(new_filepath):\n",
    "                # Rinominare il file solo se non esiste già un file con il nuovo nome\n",
    "                os.rename(old_filepath, new_filepath)\n",
    "                print(f'Rinominato e spostato: {filename} -> {new_filepath}')\n",
    "            else:\n",
    "                print(f'Il file con il nuovo nome {new_filename} esiste già in {ordered_directory}.')\n",
    "\n",
    "if __name__ == \"__main__\":\n",
    "    # Specificare il percorso della directory contenente i file Excel\n",
    "    directory_path = '../dataset/CS2_36-38/'\n",
    "\n",
    "    # Richiamare la funzione per rinominare e spostare i file\n",
    "    rename_and_move_files(directory_path)\n"
   ]
  }
 ],
 "metadata": {
  "kernelspec": {
   "display_name": "Python 3",
   "language": "python",
   "name": "python3"
  },
  "language_info": {
   "codemirror_mode": {
    "name": "ipython",
    "version": 3
   },
   "file_extension": ".py",
   "mimetype": "text/x-python",
   "name": "python",
   "nbconvert_exporter": "python",
   "pygments_lexer": "ipython3",
   "version": "3.10.11"
  }
 },
 "nbformat": 4,
 "nbformat_minor": 2
}
